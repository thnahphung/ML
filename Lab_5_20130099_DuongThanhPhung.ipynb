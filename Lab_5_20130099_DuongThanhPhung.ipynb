{
  "nbformat": 4,
  "nbformat_minor": 0,
  "metadata": {
    "colab": {
      "provenance": [],
      "include_colab_link": true
    },
    "kernelspec": {
      "name": "python3",
      "display_name": "Python 3"
    },
    "language_info": {
      "name": "python"
    }
  },
  "cells": [
    {
      "cell_type": "markdown",
      "metadata": {
        "id": "view-in-github",
        "colab_type": "text"
      },
      "source": [
        "<a href=\"https://colab.research.google.com/github/thnahphung/ML/blob/main/Lab_5_20130099_DuongThanhPhung.ipynb\" target=\"_parent\"><img src=\"https://colab.research.google.com/assets/colab-badge.svg\" alt=\"Open In Colab\"/></a>"
      ]
    },
    {
      "cell_type": "markdown",
      "source": [
        "# This lab is to deal with **SVM** to classification tasks and compare its performance with other competitive algorithms. In general, **SVM** is one of the most popular and widely used supervised machine learning algorithms.\n",
        "\n",
        "*   **Deadline: 23:59, 17/03/2023**\n",
        "\n"
      ],
      "metadata": {
        "id": "LMzehe0sy5wr"
      }
    },
    {
      "cell_type": "code",
      "source": [
        "from google.colab import drive\n",
        "drive.mount('/content/gdrive')\n",
        "%cd '/content/gdrive/MyDrive/ML'"
      ],
      "metadata": {
        "colab": {
          "base_uri": "https://localhost:8080/"
        },
        "id": "TZuZ7hLJL0QT",
        "outputId": "9afc4eb4-4ff1-4f76-aefb-6986f65f9b0a"
      },
      "execution_count": 1,
      "outputs": [
        {
          "output_type": "stream",
          "name": "stdout",
          "text": [
            "Mounted at /content/gdrive\n",
            "/content/gdrive/MyDrive/ML\n"
          ]
        }
      ]
    },
    {
      "cell_type": "markdown",
      "source": [
        "# Import libraries"
      ],
      "metadata": {
        "id": "H4nJmxp9zGX4"
      }
    },
    {
      "cell_type": "code",
      "execution_count": 2,
      "metadata": {
        "id": "DoVWQ8AEyc-C"
      },
      "outputs": [],
      "source": [
        "from sklearn import datasets\n",
        "import pandas as pd\n",
        "import numpy as np\n",
        "from sklearn import svm\n",
        "import matplotlib.pyplot as plt\n",
        "from sklearn.model_selection import train_test_split as tts\n",
        "from sklearn import metrics as m\n",
        "from sklearn.neighbors import KNeighborsClassifier\n",
        "from sklearn import tree\n",
        "from sklearn.linear_model import LogisticRegression"
      ]
    },
    {
      "cell_type": "markdown",
      "source": [
        "#Task 1. \n",
        "For breast cancer dataset (https://tinyurl.com/3vme8hr3) which could be loaded from datasets in sklearn as follows:\n",
        "\n",
        "```\n",
        "#Import scikit-learn dataset library\n",
        "from sklearn import datasets\n",
        "\n",
        "#Load dataset\n",
        "cancer = datasets.load_breast_cancer()\n",
        "```\n",
        "\n",
        "*   1.1.\tApply SVM algorithm to above dataset using linear kernel.\n",
        "*   1.2.\tCompare the obtained results with other competitive algorithms (Logistic Regression, Decision Tree, kNN) based on metrics: accuracy, precision, recall, f1 measures.\n",
        "\n"
      ],
      "metadata": {
        "id": "kNv07ARGzOUm"
      }
    },
    {
      "cell_type": "code",
      "source": [
        "# 1.1\n",
        "cancer = datasets.load_breast_cancer()\n",
        "x = cancer.data\n",
        "y = cancer.target\n",
        "x_train, x_test, y_train, y_test = tts(x, y, test_size=0.3)\n",
        "clf = svm.SVC(kernel='linear')\n",
        "clf.fit(x_train, y_train)\n",
        "SVM_y_pred = clf.predict(x_test)\n",
        "SVM_pres = m.precision_score(y_test, SVM_y_pred, average='micro')\n",
        "SVM_re = m.recall_score(y_test,SVM_y_pred, average='micro')\n",
        "SVM_f1 = m.f1_score(y_test, SVM_y_pred, average='micro')\n",
        "SVM_acc = m.accuracy_score(y_test, SVM_y_pred)\n",
        "print(m.classification_report(y_test,SVM_y_pred))\n",
        "\n"
      ],
      "metadata": {
        "id": "sOsg77IBzEyo",
        "colab": {
          "base_uri": "https://localhost:8080/"
        },
        "outputId": "be574ba8-c266-461f-ca05-3ca0bf0e34f1"
      },
      "execution_count": null,
      "outputs": [
        {
          "output_type": "stream",
          "name": "stdout",
          "text": [
            "              precision    recall  f1-score   support\n",
            "\n",
            "           0       0.98      0.93      0.96        70\n",
            "           1       0.95      0.99      0.97       101\n",
            "\n",
            "    accuracy                           0.96       171\n",
            "   macro avg       0.97      0.96      0.96       171\n",
            "weighted avg       0.97      0.96      0.96       171\n",
            "\n"
          ]
        }
      ]
    },
    {
      "cell_type": "code",
      "source": [
        "#KNN\n",
        "k_range = np.arange(1,30,2)\n",
        "KNN_acc =[]\n",
        "KNN_pres = []\n",
        "KNN_re =[]\n",
        "KNN_f1 = []\n",
        "for k in k_range:\n",
        "  KNN = KNeighborsClassifier(n_neighbors=k)\n",
        "  KNN.fit(x_train, y_train)\n",
        "  pred = KNN.predict(x_test)\n",
        "  KNN_acc.append(m.accuracy_score(y_test, pred))\n",
        "  KNN_pres.append(m.precision_score(y_test, pred, average='micro'))\n",
        "  KNN_re.append( m.recall_score(y_test, pred, average='micro'))\n",
        "  KNN_f1.append(m.f1_score(y_test, pred, average='micro'))"
      ],
      "metadata": {
        "id": "lbBu3U1FQiDC"
      },
      "execution_count": null,
      "outputs": []
    },
    {
      "cell_type": "code",
      "source": [
        "#Logistic\n",
        "lo_clf = LogisticRegression(random_state = 0)\n",
        "lo_clf.fit(x_train, y_train)\n",
        "lo_y_pred = clf.predict(x_test)\n",
        "lo_acc = m.accuracy_score(y_test, lo_y_pred)\n",
        "lo_pres = m.precision_score(y_test, lo_y_pred)\n",
        "lo_re = m.recall_score(y_test, lo_y_pred)\n",
        "lo_f1 = m.f1_score(y_test, lo_y_pred)"
      ],
      "metadata": {
        "colab": {
          "base_uri": "https://localhost:8080/"
        },
        "id": "1spgR39rU_Ui",
        "outputId": "b201ff54-06a3-49c7-ef8d-a2b736def660"
      },
      "execution_count": null,
      "outputs": [
        {
          "output_type": "stream",
          "name": "stderr",
          "text": [
            "/usr/local/lib/python3.9/dist-packages/sklearn/linear_model/_logistic.py:458: ConvergenceWarning: lbfgs failed to converge (status=1):\n",
            "STOP: TOTAL NO. of ITERATIONS REACHED LIMIT.\n",
            "\n",
            "Increase the number of iterations (max_iter) or scale the data as shown in:\n",
            "    https://scikit-learn.org/stable/modules/preprocessing.html\n",
            "Please also refer to the documentation for alternative solver options:\n",
            "    https://scikit-learn.org/stable/modules/linear_model.html#logistic-regression\n",
            "  n_iter_i = _check_optimize_result(\n"
          ]
        }
      ]
    },
    {
      "cell_type": "code",
      "source": [
        "tree_clf = tree.DecisionTreeClassifier(random_state=50)\n",
        "tree_clf.fit(x_train, y_train)\n",
        "tree_y_pred = tree_clf.predict(x_test)\n",
        "tree_acc = m.accuracy_score(y_test, tree_y_pred)\n",
        "tree_pres = m.precision_score(y_test, tree_y_pred)\n",
        "tree_re = m.recall_score(y_test,tree_y_pred)\n",
        "tree_f1 = m.f1_score(y_test, tree_y_pred)"
      ],
      "metadata": {
        "id": "yhisyDY2YqOq"
      },
      "execution_count": null,
      "outputs": []
    },
    {
      "cell_type": "code",
      "source": [
        "d_svm = {'Accuracy': SVM_acc, 'Precision': SVM_pres, 'Recall': SVM_re, 'F1': SVM_f1}\n",
        "d_KNN = {'Accuracy':max(KNN_acc), 'Precision':max(KNN_pres), 'Recall':max(KNN_re), 'F1': max(KNN_f1)}\n",
        "d_lo = {'Accuracy': lo_acc, 'Precision': lo_pres, 'Recall': lo_re, 'F1': lo_f1}\n",
        "d_tree = {'Accuracy': tree_acc, 'Precision': tree_pres, 'Recall': tree_re, 'F1': tree_f1}\n",
        "pd.DataFrame({'SVM':pd.Series(d_svm),'KNN' : pd.Series(d_KNN), 'Logictis Regression':pd.Series(d_lo), 'Decision Tree': pd.Series(d_tree)})"
      ],
      "metadata": {
        "colab": {
          "base_uri": "https://localhost:8080/",
          "height": 175
        },
        "id": "76-fFhzfUG7K",
        "outputId": "1fca0061-7130-4e46-e8ef-094d8177b675"
      },
      "execution_count": null,
      "outputs": [
        {
          "output_type": "execute_result",
          "data": {
            "text/plain": [
              "                SVM      KNN  Logictis Regression  Decision Tree\n",
              "Accuracy   0.964912  0.94152             0.964912       0.929825\n",
              "Precision  0.964912  0.94152             0.952381       0.932039\n",
              "Recall     0.964912  0.94152             0.990099       0.950495\n",
              "F1         0.964912  0.94152             0.970874       0.941176"
            ],
            "text/html": [
              "\n",
              "  <div id=\"df-33801e54-c407-405a-8023-bfe4eb0e1cc1\">\n",
              "    <div class=\"colab-df-container\">\n",
              "      <div>\n",
              "<style scoped>\n",
              "    .dataframe tbody tr th:only-of-type {\n",
              "        vertical-align: middle;\n",
              "    }\n",
              "\n",
              "    .dataframe tbody tr th {\n",
              "        vertical-align: top;\n",
              "    }\n",
              "\n",
              "    .dataframe thead th {\n",
              "        text-align: right;\n",
              "    }\n",
              "</style>\n",
              "<table border=\"1\" class=\"dataframe\">\n",
              "  <thead>\n",
              "    <tr style=\"text-align: right;\">\n",
              "      <th></th>\n",
              "      <th>SVM</th>\n",
              "      <th>KNN</th>\n",
              "      <th>Logictis Regression</th>\n",
              "      <th>Decision Tree</th>\n",
              "    </tr>\n",
              "  </thead>\n",
              "  <tbody>\n",
              "    <tr>\n",
              "      <th>Accuracy</th>\n",
              "      <td>0.964912</td>\n",
              "      <td>0.94152</td>\n",
              "      <td>0.964912</td>\n",
              "      <td>0.929825</td>\n",
              "    </tr>\n",
              "    <tr>\n",
              "      <th>Precision</th>\n",
              "      <td>0.964912</td>\n",
              "      <td>0.94152</td>\n",
              "      <td>0.952381</td>\n",
              "      <td>0.932039</td>\n",
              "    </tr>\n",
              "    <tr>\n",
              "      <th>Recall</th>\n",
              "      <td>0.964912</td>\n",
              "      <td>0.94152</td>\n",
              "      <td>0.990099</td>\n",
              "      <td>0.950495</td>\n",
              "    </tr>\n",
              "    <tr>\n",
              "      <th>F1</th>\n",
              "      <td>0.964912</td>\n",
              "      <td>0.94152</td>\n",
              "      <td>0.970874</td>\n",
              "      <td>0.941176</td>\n",
              "    </tr>\n",
              "  </tbody>\n",
              "</table>\n",
              "</div>\n",
              "      <button class=\"colab-df-convert\" onclick=\"convertToInteractive('df-33801e54-c407-405a-8023-bfe4eb0e1cc1')\"\n",
              "              title=\"Convert this dataframe to an interactive table.\"\n",
              "              style=\"display:none;\">\n",
              "        \n",
              "  <svg xmlns=\"http://www.w3.org/2000/svg\" height=\"24px\"viewBox=\"0 0 24 24\"\n",
              "       width=\"24px\">\n",
              "    <path d=\"M0 0h24v24H0V0z\" fill=\"none\"/>\n",
              "    <path d=\"M18.56 5.44l.94 2.06.94-2.06 2.06-.94-2.06-.94-.94-2.06-.94 2.06-2.06.94zm-11 1L8.5 8.5l.94-2.06 2.06-.94-2.06-.94L8.5 2.5l-.94 2.06-2.06.94zm10 10l.94 2.06.94-2.06 2.06-.94-2.06-.94-.94-2.06-.94 2.06-2.06.94z\"/><path d=\"M17.41 7.96l-1.37-1.37c-.4-.4-.92-.59-1.43-.59-.52 0-1.04.2-1.43.59L10.3 9.45l-7.72 7.72c-.78.78-.78 2.05 0 2.83L4 21.41c.39.39.9.59 1.41.59.51 0 1.02-.2 1.41-.59l7.78-7.78 2.81-2.81c.8-.78.8-2.07 0-2.86zM5.41 20L4 18.59l7.72-7.72 1.47 1.35L5.41 20z\"/>\n",
              "  </svg>\n",
              "      </button>\n",
              "      \n",
              "  <style>\n",
              "    .colab-df-container {\n",
              "      display:flex;\n",
              "      flex-wrap:wrap;\n",
              "      gap: 12px;\n",
              "    }\n",
              "\n",
              "    .colab-df-convert {\n",
              "      background-color: #E8F0FE;\n",
              "      border: none;\n",
              "      border-radius: 50%;\n",
              "      cursor: pointer;\n",
              "      display: none;\n",
              "      fill: #1967D2;\n",
              "      height: 32px;\n",
              "      padding: 0 0 0 0;\n",
              "      width: 32px;\n",
              "    }\n",
              "\n",
              "    .colab-df-convert:hover {\n",
              "      background-color: #E2EBFA;\n",
              "      box-shadow: 0px 1px 2px rgba(60, 64, 67, 0.3), 0px 1px 3px 1px rgba(60, 64, 67, 0.15);\n",
              "      fill: #174EA6;\n",
              "    }\n",
              "\n",
              "    [theme=dark] .colab-df-convert {\n",
              "      background-color: #3B4455;\n",
              "      fill: #D2E3FC;\n",
              "    }\n",
              "\n",
              "    [theme=dark] .colab-df-convert:hover {\n",
              "      background-color: #434B5C;\n",
              "      box-shadow: 0px 1px 3px 1px rgba(0, 0, 0, 0.15);\n",
              "      filter: drop-shadow(0px 1px 2px rgba(0, 0, 0, 0.3));\n",
              "      fill: #FFFFFF;\n",
              "    }\n",
              "  </style>\n",
              "\n",
              "      <script>\n",
              "        const buttonEl =\n",
              "          document.querySelector('#df-33801e54-c407-405a-8023-bfe4eb0e1cc1 button.colab-df-convert');\n",
              "        buttonEl.style.display =\n",
              "          google.colab.kernel.accessAllowed ? 'block' : 'none';\n",
              "\n",
              "        async function convertToInteractive(key) {\n",
              "          const element = document.querySelector('#df-33801e54-c407-405a-8023-bfe4eb0e1cc1');\n",
              "          const dataTable =\n",
              "            await google.colab.kernel.invokeFunction('convertToInteractive',\n",
              "                                                     [key], {});\n",
              "          if (!dataTable) return;\n",
              "\n",
              "          const docLinkHtml = 'Like what you see? Visit the ' +\n",
              "            '<a target=\"_blank\" href=https://colab.research.google.com/notebooks/data_table.ipynb>data table notebook</a>'\n",
              "            + ' to learn more about interactive tables.';\n",
              "          element.innerHTML = '';\n",
              "          dataTable['output_type'] = 'display_data';\n",
              "          await google.colab.output.renderOutput(dataTable, element);\n",
              "          const docLink = document.createElement('div');\n",
              "          docLink.innerHTML = docLinkHtml;\n",
              "          element.appendChild(docLink);\n",
              "        }\n",
              "      </script>\n",
              "    </div>\n",
              "  </div>\n",
              "  "
            ]
          },
          "metadata": {},
          "execution_count": 47
        }
      ]
    },
    {
      "cell_type": "markdown",
      "source": [
        "#Task 2. \n",
        "\n",
        "*   1.1.\tPerform SVM algorithm to **Iris dataset** using **linear kernel**.\n",
        "*   1.2.\tCompare the obtained results in 1.1 with SVM using other kernels (**Polynomial Kernel, Gaussian Kernel, Sigmoid Kernel, Radial Basis Function Kernel**). Some metrics could be used: accuracy, precision, recall, f1 measures\n",
        "\n",
        "\n",
        "\n"
      ],
      "metadata": {
        "id": "S43IoUT-0OQq"
      }
    },
    {
      "cell_type": "code",
      "source": [
        "# 1.1\n",
        "cancer_2 = datasets.load_iris()\n",
        "x_2 = cancer_2.data\n",
        "y_2 = cancer_2.target\n",
        "x_train_2, x_test_2, y_train_2, y_test_2 = tts(x_2, y_2, test_size=0.3)\n",
        "clf_2 = svm.SVC(kernel='linear')\n",
        "clf_2.fit(x_train_2, y_train_2)\n",
        "SVM_y_pred_2 = clf_2.predict(x_test_2)\n",
        "SVM_pres_2 = m.precision_score(y_test_2, SVM_y_pred_2, average='micro')\n",
        "SVM_re_2 = m.recall_score(y_test_2,SVM_y_pred_2, average='micro')\n",
        "SVM_f1_2 = m.f1_score(y_test_2, SVM_y_pred_2, average='micro')\n",
        "SVM_acc_2 = m.accuracy_score(y_test_2, SVM_y_pred_2)\n",
        "print(m.classification_report(y_test_2,SVM_y_pred_2))"
      ],
      "metadata": {
        "id": "_xhPpF5b033h",
        "colab": {
          "base_uri": "https://localhost:8080/"
        },
        "outputId": "74749c6b-e14d-459a-88f9-4523c38965a4"
      },
      "execution_count": null,
      "outputs": [
        {
          "output_type": "stream",
          "name": "stdout",
          "text": [
            "              precision    recall  f1-score   support\n",
            "\n",
            "           0       1.00      1.00      1.00        12\n",
            "           1       1.00      1.00      1.00        13\n",
            "           2       1.00      1.00      1.00        20\n",
            "\n",
            "    accuracy                           1.00        45\n",
            "   macro avg       1.00      1.00      1.00        45\n",
            "weighted avg       1.00      1.00      1.00        45\n",
            "\n"
          ]
        }
      ]
    },
    {
      "cell_type": "code",
      "source": [
        "#1.2\n",
        "clf_poly = svm.SVC(kernel='poly')\n",
        "clf_poly.fit(x_train_2, y_train_2)\n",
        "SVM_y_pred_poly = clf_poly.predict(x_test_2)\n",
        "SVM_pres_poly = m.precision_score(y_test_2, SVM_y_pred_poly, average='micro')\n",
        "SVM_re_poly = m.recall_score(y_test_2,SVM_y_pred_poly, average='micro')\n",
        "SVM_f1_poly = m.f1_score(y_test_2, SVM_y_pred_poly, average='micro')\n",
        "SVM_acc_poly = m.accuracy_score(y_test_2, SVM_y_pred_poly)\n",
        "print(m.classification_report(y_test_2,SVM_y_pred_poly))"
      ],
      "metadata": {
        "colab": {
          "base_uri": "https://localhost:8080/"
        },
        "id": "FKOBXvC0cFV6",
        "outputId": "955f2bc8-f2bc-4970-c606-a7563e694163"
      },
      "execution_count": null,
      "outputs": [
        {
          "output_type": "stream",
          "name": "stdout",
          "text": [
            "              precision    recall  f1-score   support\n",
            "\n",
            "           0       1.00      1.00      1.00        12\n",
            "           1       0.93      1.00      0.96        13\n",
            "           2       1.00      0.95      0.97        20\n",
            "\n",
            "    accuracy                           0.98        45\n",
            "   macro avg       0.98      0.98      0.98        45\n",
            "weighted avg       0.98      0.98      0.98        45\n",
            "\n"
          ]
        }
      ]
    },
    {
      "cell_type": "code",
      "source": [
        "clf_sigmoid = svm.SVC(kernel='sigmoid')\n",
        "clf_sigmoid.fit(x_train_2, y_train_2)\n",
        "SVM_y_pred_sigmoid = clf_sigmoid.predict(x_test_2)\n",
        "SVM_pres_sigmoid = m.precision_score(y_test_2, SVM_y_pred_sigmoid, average='micro')\n",
        "SVM_re_sigmoid = m.recall_score(y_test_2,SVM_y_pred_sigmoid, average='micro')\n",
        "SVM_f1_sigmoid = m.f1_score(y_test_2, SVM_y_pred_sigmoid, average='micro')\n",
        "SVM_acc_sigmoid = m.accuracy_score(y_test_2, SVM_y_pred_sigmoid)\n",
        "print(m.classification_report(y_test_2,SVM_y_pred_sigmoid))"
      ],
      "metadata": {
        "colab": {
          "base_uri": "https://localhost:8080/"
        },
        "id": "p-x9qBpYc6x5",
        "outputId": "edcf5510-e0da-41aa-9c71-5f67dc0adbf6"
      },
      "execution_count": null,
      "outputs": [
        {
          "output_type": "stream",
          "name": "stdout",
          "text": [
            "              precision    recall  f1-score   support\n",
            "\n",
            "           0       0.27      1.00      0.42        12\n",
            "           1       0.00      0.00      0.00        13\n",
            "           2       0.00      0.00      0.00        20\n",
            "\n",
            "    accuracy                           0.27        45\n",
            "   macro avg       0.09      0.33      0.14        45\n",
            "weighted avg       0.07      0.27      0.11        45\n",
            "\n"
          ]
        },
        {
          "output_type": "stream",
          "name": "stderr",
          "text": [
            "/usr/local/lib/python3.9/dist-packages/sklearn/metrics/_classification.py:1344: UndefinedMetricWarning: Precision and F-score are ill-defined and being set to 0.0 in labels with no predicted samples. Use `zero_division` parameter to control this behavior.\n",
            "  _warn_prf(average, modifier, msg_start, len(result))\n",
            "/usr/local/lib/python3.9/dist-packages/sklearn/metrics/_classification.py:1344: UndefinedMetricWarning: Precision and F-score are ill-defined and being set to 0.0 in labels with no predicted samples. Use `zero_division` parameter to control this behavior.\n",
            "  _warn_prf(average, modifier, msg_start, len(result))\n",
            "/usr/local/lib/python3.9/dist-packages/sklearn/metrics/_classification.py:1344: UndefinedMetricWarning: Precision and F-score are ill-defined and being set to 0.0 in labels with no predicted samples. Use `zero_division` parameter to control this behavior.\n",
            "  _warn_prf(average, modifier, msg_start, len(result))\n"
          ]
        }
      ]
    },
    {
      "cell_type": "code",
      "source": [
        "clf_rbf = svm.SVC(kernel='rbf')\n",
        "clf_rbf.fit(x_train_2, y_train_2)\n",
        "SVM_y_pred_rbf = clf_rbf.predict(x_test_2)\n",
        "SVM_pres_rbf = m.precision_score(y_test_2, SVM_y_pred_rbf, average='micro')\n",
        "SVM_re_rbf = m.recall_score(y_test_2,SVM_y_pred_rbf, average='micro')\n",
        "SVM_f1_rbf = m.f1_score(y_test_2, SVM_y_pred_rbf, average='micro')\n",
        "SVM_acc_rbf = m.accuracy_score(y_test_2, SVM_y_pred_rbf)\n",
        "print(m.classification_report(y_test_2,SVM_y_pred_rbf))"
      ],
      "metadata": {
        "colab": {
          "base_uri": "https://localhost:8080/"
        },
        "id": "cUtXlQis_87P",
        "outputId": "d8796b39-12bf-4f15-add4-4ee5a1e4eb8e"
      },
      "execution_count": null,
      "outputs": [
        {
          "output_type": "stream",
          "name": "stdout",
          "text": [
            "              precision    recall  f1-score   support\n",
            "\n",
            "           0       1.00      1.00      1.00        12\n",
            "           1       0.87      1.00      0.93        13\n",
            "           2       1.00      0.90      0.95        20\n",
            "\n",
            "    accuracy                           0.96        45\n",
            "   macro avg       0.96      0.97      0.96        45\n",
            "weighted avg       0.96      0.96      0.96        45\n",
            "\n"
          ]
        }
      ]
    },
    {
      "cell_type": "code",
      "source": [
        "d_svm_li = {'Accuracy': SVM_acc_2, 'Precision': SVM_pres_2, 'Recall': SVM_re_2, 'F1': SVM_f1_2}\n",
        "d_svm_poly = {'Accuracy': SVM_acc_poly, 'Precision': SVM_pres_poly, 'Recall': SVM_re_poly, 'F1': SVM_f1_poly}\n",
        "d_svm_sigmoid = {'Accuracy': SVM_acc_sigmoid, 'Precision': SVM_pres_sigmoid, 'Recall': SVM_re_sigmoid, 'F1': SVM_f1_sigmoid}\n",
        "d_svm_rbf = {'Accuracy': SVM_acc_rbf, 'Precision': SVM_pres_rbf, 'Recall': SVM_re_rbf, 'F1': SVM_f1_rbf}\n",
        "pd.DataFrame({'Linear Kernel':pd.Series(d_svm_li),'Polynomial Kernel' : pd.Series(d_svm_poly), 'Sigmoid Kernel':pd.Series(d_svm_sigmoid), ' Radial Basis Function Kernel': pd.Series(d_svm_rbf)})"
      ],
      "metadata": {
        "colab": {
          "base_uri": "https://localhost:8080/",
          "height": 175
        },
        "id": "oNkiompAAhoW",
        "outputId": "bd6296f6-c069-4c5c-a455-808b548d4bc8"
      },
      "execution_count": null,
      "outputs": [
        {
          "output_type": "execute_result",
          "data": {
            "text/plain": [
              "           Linear Kernel  Polynomial Kernel  Sigmoid Kernel  \\\n",
              "Accuracy             1.0           0.977778        0.266667   \n",
              "Precision            1.0           0.977778        0.266667   \n",
              "Recall               1.0           0.977778        0.266667   \n",
              "F1                   1.0           0.977778        0.266667   \n",
              "\n",
              "            Radial Basis Function Kernel  \n",
              "Accuracy                        0.955556  \n",
              "Precision                       0.955556  \n",
              "Recall                          0.955556  \n",
              "F1                              0.955556  "
            ],
            "text/html": [
              "\n",
              "  <div id=\"df-bc073852-2cc4-4bd9-8b8d-74a24c16501e\">\n",
              "    <div class=\"colab-df-container\">\n",
              "      <div>\n",
              "<style scoped>\n",
              "    .dataframe tbody tr th:only-of-type {\n",
              "        vertical-align: middle;\n",
              "    }\n",
              "\n",
              "    .dataframe tbody tr th {\n",
              "        vertical-align: top;\n",
              "    }\n",
              "\n",
              "    .dataframe thead th {\n",
              "        text-align: right;\n",
              "    }\n",
              "</style>\n",
              "<table border=\"1\" class=\"dataframe\">\n",
              "  <thead>\n",
              "    <tr style=\"text-align: right;\">\n",
              "      <th></th>\n",
              "      <th>Linear Kernel</th>\n",
              "      <th>Polynomial Kernel</th>\n",
              "      <th>Sigmoid Kernel</th>\n",
              "      <th>Radial Basis Function Kernel</th>\n",
              "    </tr>\n",
              "  </thead>\n",
              "  <tbody>\n",
              "    <tr>\n",
              "      <th>Accuracy</th>\n",
              "      <td>1.0</td>\n",
              "      <td>0.977778</td>\n",
              "      <td>0.266667</td>\n",
              "      <td>0.955556</td>\n",
              "    </tr>\n",
              "    <tr>\n",
              "      <th>Precision</th>\n",
              "      <td>1.0</td>\n",
              "      <td>0.977778</td>\n",
              "      <td>0.266667</td>\n",
              "      <td>0.955556</td>\n",
              "    </tr>\n",
              "    <tr>\n",
              "      <th>Recall</th>\n",
              "      <td>1.0</td>\n",
              "      <td>0.977778</td>\n",
              "      <td>0.266667</td>\n",
              "      <td>0.955556</td>\n",
              "    </tr>\n",
              "    <tr>\n",
              "      <th>F1</th>\n",
              "      <td>1.0</td>\n",
              "      <td>0.977778</td>\n",
              "      <td>0.266667</td>\n",
              "      <td>0.955556</td>\n",
              "    </tr>\n",
              "  </tbody>\n",
              "</table>\n",
              "</div>\n",
              "      <button class=\"colab-df-convert\" onclick=\"convertToInteractive('df-bc073852-2cc4-4bd9-8b8d-74a24c16501e')\"\n",
              "              title=\"Convert this dataframe to an interactive table.\"\n",
              "              style=\"display:none;\">\n",
              "        \n",
              "  <svg xmlns=\"http://www.w3.org/2000/svg\" height=\"24px\"viewBox=\"0 0 24 24\"\n",
              "       width=\"24px\">\n",
              "    <path d=\"M0 0h24v24H0V0z\" fill=\"none\"/>\n",
              "    <path d=\"M18.56 5.44l.94 2.06.94-2.06 2.06-.94-2.06-.94-.94-2.06-.94 2.06-2.06.94zm-11 1L8.5 8.5l.94-2.06 2.06-.94-2.06-.94L8.5 2.5l-.94 2.06-2.06.94zm10 10l.94 2.06.94-2.06 2.06-.94-2.06-.94-.94-2.06-.94 2.06-2.06.94z\"/><path d=\"M17.41 7.96l-1.37-1.37c-.4-.4-.92-.59-1.43-.59-.52 0-1.04.2-1.43.59L10.3 9.45l-7.72 7.72c-.78.78-.78 2.05 0 2.83L4 21.41c.39.39.9.59 1.41.59.51 0 1.02-.2 1.41-.59l7.78-7.78 2.81-2.81c.8-.78.8-2.07 0-2.86zM5.41 20L4 18.59l7.72-7.72 1.47 1.35L5.41 20z\"/>\n",
              "  </svg>\n",
              "      </button>\n",
              "      \n",
              "  <style>\n",
              "    .colab-df-container {\n",
              "      display:flex;\n",
              "      flex-wrap:wrap;\n",
              "      gap: 12px;\n",
              "    }\n",
              "\n",
              "    .colab-df-convert {\n",
              "      background-color: #E8F0FE;\n",
              "      border: none;\n",
              "      border-radius: 50%;\n",
              "      cursor: pointer;\n",
              "      display: none;\n",
              "      fill: #1967D2;\n",
              "      height: 32px;\n",
              "      padding: 0 0 0 0;\n",
              "      width: 32px;\n",
              "    }\n",
              "\n",
              "    .colab-df-convert:hover {\n",
              "      background-color: #E2EBFA;\n",
              "      box-shadow: 0px 1px 2px rgba(60, 64, 67, 0.3), 0px 1px 3px 1px rgba(60, 64, 67, 0.15);\n",
              "      fill: #174EA6;\n",
              "    }\n",
              "\n",
              "    [theme=dark] .colab-df-convert {\n",
              "      background-color: #3B4455;\n",
              "      fill: #D2E3FC;\n",
              "    }\n",
              "\n",
              "    [theme=dark] .colab-df-convert:hover {\n",
              "      background-color: #434B5C;\n",
              "      box-shadow: 0px 1px 3px 1px rgba(0, 0, 0, 0.15);\n",
              "      filter: drop-shadow(0px 1px 2px rgba(0, 0, 0, 0.3));\n",
              "      fill: #FFFFFF;\n",
              "    }\n",
              "  </style>\n",
              "\n",
              "      <script>\n",
              "        const buttonEl =\n",
              "          document.querySelector('#df-bc073852-2cc4-4bd9-8b8d-74a24c16501e button.colab-df-convert');\n",
              "        buttonEl.style.display =\n",
              "          google.colab.kernel.accessAllowed ? 'block' : 'none';\n",
              "\n",
              "        async function convertToInteractive(key) {\n",
              "          const element = document.querySelector('#df-bc073852-2cc4-4bd9-8b8d-74a24c16501e');\n",
              "          const dataTable =\n",
              "            await google.colab.kernel.invokeFunction('convertToInteractive',\n",
              "                                                     [key], {});\n",
              "          if (!dataTable) return;\n",
              "\n",
              "          const docLinkHtml = 'Like what you see? Visit the ' +\n",
              "            '<a target=\"_blank\" href=https://colab.research.google.com/notebooks/data_table.ipynb>data table notebook</a>'\n",
              "            + ' to learn more about interactive tables.';\n",
              "          element.innerHTML = '';\n",
              "          dataTable['output_type'] = 'display_data';\n",
              "          await google.colab.output.renderOutput(dataTable, element);\n",
              "          const docLink = document.createElement('div');\n",
              "          docLink.innerHTML = docLinkHtml;\n",
              "          element.appendChild(docLink);\n",
              "        }\n",
              "      </script>\n",
              "    </div>\n",
              "  </div>\n",
              "  "
            ]
          },
          "metadata": {},
          "execution_count": 7
        }
      ]
    },
    {
      "cell_type": "markdown",
      "source": [
        "#Task 3. \n",
        "Compare the performance of selected classification algorithms (Decision Tree, kNN, Logistic Regression) and SVM (using different kernels) with mnist dataset based on accuracy, precision, recall, f1 measures.\n"
      ],
      "metadata": {
        "id": "b52OPWPD2afi"
      }
    },
    {
      "cell_type": "code",
      "source": [
        "mnist = datasets.load_digits()\n",
        "x_mnist = mnist.data\n",
        "y_mnist = mnist.target\n",
        "x_train_3, x_test_3, y_train_3, y_test_3 = tts(x_mnist, y_mnist, test_size=0.3)"
      ],
      "metadata": {
        "id": "EmwTyVCTCJSg"
      },
      "execution_count": 3,
      "outputs": []
    },
    {
      "cell_type": "code",
      "source": [
        "#KNN\n",
        "k_range_3 = np.arange(1,30,2)\n",
        "KNN_acc_3 =[]\n",
        "KNN_pres_3 = []\n",
        "KNN_re_3 =[]\n",
        "KNN_f1_3 = []\n",
        "for k in k_range_3:\n",
        "  KNN = KNeighborsClassifier(n_neighbors=k)\n",
        "  KNN.fit(x_train_3, y_train_3)\n",
        "  pred_3 = KNN.predict(x_test_3)\n",
        "  KNN_acc_3.append(m.accuracy_score(y_test_3, pred_3))\n",
        "  KNN_pres_3.append(m.precision_score(y_test_3, pred_3, average='micro'))\n",
        "  KNN_re_3.append( m.recall_score(y_test_3, pred_3, average='micro'))\n",
        "  KNN_f1_3.append(m.f1_score(y_test_3, pred_3, average='micro'))"
      ],
      "metadata": {
        "id": "YYH13gMvDa86"
      },
      "execution_count": 4,
      "outputs": []
    },
    {
      "cell_type": "code",
      "source": [
        "#Logistic\n",
        "lo_clf_3 = LogisticRegression(random_state = 0)\n",
        "lo_clf_3.fit(x_train_3, y_train_3)\n",
        "lo_y_pred_3 = lo_clf_3.predict(x_test_3)\n",
        "lo_acc_3 = m.accuracy_score(y_test_3, lo_y_pred_3)\n",
        "lo_pres_3 = m.precision_score(y_test_3, lo_y_pred_3, average='micro')\n",
        "lo_re_3 = m.recall_score(y_test_3, lo_y_pred_3, average='micro')\n",
        "lo_f1_3 = m.f1_score(y_test_3, lo_y_pred_3, average='micro')"
      ],
      "metadata": {
        "colab": {
          "base_uri": "https://localhost:8080/"
        },
        "id": "hgnZSndXEI68",
        "outputId": "035f415a-decc-47dc-872c-41bc179cc654"
      },
      "execution_count": 5,
      "outputs": [
        {
          "output_type": "stream",
          "name": "stderr",
          "text": [
            "/usr/local/lib/python3.9/dist-packages/sklearn/linear_model/_logistic.py:458: ConvergenceWarning: lbfgs failed to converge (status=1):\n",
            "STOP: TOTAL NO. of ITERATIONS REACHED LIMIT.\n",
            "\n",
            "Increase the number of iterations (max_iter) or scale the data as shown in:\n",
            "    https://scikit-learn.org/stable/modules/preprocessing.html\n",
            "Please also refer to the documentation for alternative solver options:\n",
            "    https://scikit-learn.org/stable/modules/linear_model.html#logistic-regression\n",
            "  n_iter_i = _check_optimize_result(\n"
          ]
        }
      ]
    },
    {
      "cell_type": "code",
      "source": [
        "tree_clf_3 = tree.DecisionTreeClassifier(random_state=50)\n",
        "tree_clf_3.fit(x_train_3, y_train_3)\n",
        "tree_y_pred_3 = tree_clf_3.predict(x_test_3)\n",
        "tree_acc_3 = m.accuracy_score(y_test_3, tree_y_pred_3)\n",
        "tree_pres_3 = m.precision_score(y_test_3, tree_y_pred_3, average='micro')\n",
        "tree_re_3 = m.recall_score(y_test_3,tree_y_pred_3, average='micro')\n",
        "tree_f1_3 = m.f1_score(y_test_3, tree_y_pred_3, average='micro')"
      ],
      "metadata": {
        "id": "T5V0UtAQELNN"
      },
      "execution_count": 6,
      "outputs": []
    },
    {
      "cell_type": "code",
      "source": [
        "clf_li_3 = svm.SVC(kernel='linear')\n",
        "clf_li_3.fit(x_train_3, y_train_3)\n",
        "SVM_y_pred_li_3 = clf_li_3.predict(x_test_3)\n",
        "SVM_pres_li_3 = m.precision_score(y_test_3, SVM_y_pred_li_3 , average='micro')\n",
        "SVM_re_li_3 = m.recall_score(y_test_3,SVM_y_pred_li_3 , average='micro')\n",
        "SVM_f1_li_3 = m.f1_score(y_test_3, SVM_y_pred_li_3 , average='micro')\n",
        "SVM_acc_li_3 = m.accuracy_score(y_test_3, SVM_y_pred_li_3 )\n",
        "print(m.classification_report(y_test_3,SVM_y_pred_li_3 ))"
      ],
      "metadata": {
        "colab": {
          "base_uri": "https://localhost:8080/"
        },
        "id": "UbuPUa8cGJiR",
        "outputId": "b2e77839-da39-48bd-d487-5897d8a2e99e"
      },
      "execution_count": 7,
      "outputs": [
        {
          "output_type": "stream",
          "name": "stdout",
          "text": [
            "              precision    recall  f1-score   support\n",
            "\n",
            "           0       1.00      1.00      1.00        47\n",
            "           1       0.98      0.98      0.98        57\n",
            "           2       1.00      1.00      1.00        59\n",
            "           3       1.00      0.95      0.97        60\n",
            "           4       1.00      1.00      1.00        60\n",
            "           5       0.93      0.97      0.95        39\n",
            "           6       0.98      0.98      0.98        54\n",
            "           7       1.00      1.00      1.00        55\n",
            "           8       0.94      0.96      0.95        48\n",
            "           9       0.98      0.98      0.98        61\n",
            "\n",
            "    accuracy                           0.98       540\n",
            "   macro avg       0.98      0.98      0.98       540\n",
            "weighted avg       0.98      0.98      0.98       540\n",
            "\n"
          ]
        }
      ]
    },
    {
      "cell_type": "code",
      "source": [
        "clf_poly_3 = svm.SVC(kernel='poly')\n",
        "clf_poly_3.fit(x_train_3, y_train_3)\n",
        "SVM_y_pred_poly_3 = clf_poly_3.predict(x_test_3)\n",
        "SVM_pres_poly_3 = m.precision_score(y_test_3, SVM_y_pred_poly_3, average='micro')\n",
        "SVM_re_poly_3 = m.recall_score(y_test_3,SVM_y_pred_poly_3, average='micro')\n",
        "SVM_f1_poly_3 = m.f1_score(y_test_3, SVM_y_pred_poly_3, average='micro')\n",
        "SVM_acc_poly_3 = m.accuracy_score(y_test_3, SVM_y_pred_poly_3)\n",
        "print(m.classification_report(y_test_3,SVM_y_pred_poly_3))"
      ],
      "metadata": {
        "colab": {
          "base_uri": "https://localhost:8080/"
        },
        "id": "TfBXhl4cGM6M",
        "outputId": "8678993a-fd76-434a-80df-d565ddcc57d4"
      },
      "execution_count": 8,
      "outputs": [
        {
          "output_type": "stream",
          "name": "stdout",
          "text": [
            "              precision    recall  f1-score   support\n",
            "\n",
            "           0       1.00      1.00      1.00        47\n",
            "           1       1.00      1.00      1.00        57\n",
            "           2       1.00      1.00      1.00        59\n",
            "           3       1.00      0.97      0.98        60\n",
            "           4       1.00      1.00      1.00        60\n",
            "           5       0.95      0.97      0.96        39\n",
            "           6       0.98      0.98      0.98        54\n",
            "           7       1.00      1.00      1.00        55\n",
            "           8       0.96      1.00      0.98        48\n",
            "           9       1.00      0.98      0.99        61\n",
            "\n",
            "    accuracy                           0.99       540\n",
            "   macro avg       0.99      0.99      0.99       540\n",
            "weighted avg       0.99      0.99      0.99       540\n",
            "\n"
          ]
        }
      ]
    },
    {
      "cell_type": "code",
      "source": [
        "clf_sigmoid_3 = svm.SVC(kernel='sigmoid')\n",
        "clf_sigmoid_3.fit(x_train_3, y_train_3)\n",
        "SVM_y_pred_sigmoid_3 = clf_sigmoid_3.predict(x_test_3)\n",
        "SVM_pres_sigmoid_3 = m.precision_score(y_test_3, SVM_y_pred_sigmoid_3, average='micro')\n",
        "SVM_re_sigmoid_3 = m.recall_score(y_test_3,SVM_y_pred_sigmoid_3, average='micro')\n",
        "SVM_f1_sigmoid_3 = m.f1_score(y_test_3, SVM_y_pred_sigmoid_3, average='micro')\n",
        "SVM_acc_sigmoid_3 = m.accuracy_score(y_test_3, SVM_y_pred_sigmoid_3)\n",
        "print(m.classification_report(y_test_3,SVM_y_pred_sigmoid_3))"
      ],
      "metadata": {
        "id": "u9UHDKdtGOEV",
        "colab": {
          "base_uri": "https://localhost:8080/"
        },
        "outputId": "4611dceb-901c-4f89-b8e9-57fcae0bbba1"
      },
      "execution_count": 9,
      "outputs": [
        {
          "output_type": "stream",
          "name": "stdout",
          "text": [
            "              precision    recall  f1-score   support\n",
            "\n",
            "           0       0.96      0.98      0.97        47\n",
            "           1       0.81      0.84      0.83        57\n",
            "           2       1.00      0.95      0.97        59\n",
            "           3       1.00      0.92      0.96        60\n",
            "           4       0.87      0.92      0.89        60\n",
            "           5       0.90      0.97      0.94        39\n",
            "           6       0.93      0.93      0.93        54\n",
            "           7       0.90      0.95      0.92        55\n",
            "           8       0.85      0.69      0.76        48\n",
            "           9       0.86      0.93      0.90        61\n",
            "\n",
            "    accuracy                           0.91       540\n",
            "   macro avg       0.91      0.91      0.91       540\n",
            "weighted avg       0.91      0.91      0.91       540\n",
            "\n"
          ]
        }
      ]
    },
    {
      "cell_type": "code",
      "source": [
        "clf_rbf_3 = svm.SVC(kernel='rbf')\n",
        "clf_rbf_3.fit(x_train_3, y_train_3)\n",
        "SVM_y_pred_rbf_3 = clf_rbf_3.predict(x_test_3)\n",
        "SVM_pres_rbf_3 = m.precision_score(y_test_3, SVM_y_pred_rbf_3, average='micro')\n",
        "SVM_re_rbf_3 = m.recall_score(y_test_3,SVM_y_pred_rbf_3, average='micro')\n",
        "SVM_f1_rbf_3 = m.f1_score(y_test_3, SVM_y_pred_rbf_3, average='micro')\n",
        "SVM_acc_rbf_3 = m.accuracy_score(y_test_3, SVM_y_pred_rbf_3)\n",
        "print(m.classification_report(y_test_3,SVM_y_pred_rbf_3))"
      ],
      "metadata": {
        "id": "8_BNSJKPGO_g",
        "colab": {
          "base_uri": "https://localhost:8080/"
        },
        "outputId": "11ff60c6-596b-41ee-e640-e67559dcc554"
      },
      "execution_count": 10,
      "outputs": [
        {
          "output_type": "stream",
          "name": "stdout",
          "text": [
            "              precision    recall  f1-score   support\n",
            "\n",
            "           0       1.00      1.00      1.00        47\n",
            "           1       0.98      1.00      0.99        57\n",
            "           2       1.00      1.00      1.00        59\n",
            "           3       1.00      0.97      0.98        60\n",
            "           4       1.00      1.00      1.00        60\n",
            "           5       0.95      0.97      0.96        39\n",
            "           6       0.98      0.98      0.98        54\n",
            "           7       1.00      1.00      1.00        55\n",
            "           8       0.96      0.98      0.97        48\n",
            "           9       1.00      0.98      0.99        61\n",
            "\n",
            "    accuracy                           0.99       540\n",
            "   macro avg       0.99      0.99      0.99       540\n",
            "weighted avg       0.99      0.99      0.99       540\n",
            "\n"
          ]
        }
      ]
    },
    {
      "cell_type": "code",
      "source": [
        "d_svm_li_3 = {'Accuracy': SVM_acc_li_3, 'Precision': SVM_pres_li_3, 'Recall': SVM_re_li_3, 'F1': SVM_f1_li_3}\n",
        "d_svm_poly_3 = {'Accuracy': SVM_acc_poly_3, 'Precision': SVM_pres_poly_3, 'Recall': SVM_re_poly_3, 'F1': SVM_f1_poly_3}\n",
        "d_svm_sigmoid_3 = {'Accuracy': SVM_acc_sigmoid_3, 'Precision': SVM_pres_sigmoid_3, 'Recall': SVM_re_sigmoid_3, 'F1': SVM_f1_sigmoid_3}\n",
        "d_svm_rbf_3 = {'Accuracy': SVM_acc_rbf_3, 'Precision': SVM_pres_rbf_3, 'Recall': SVM_re_rbf_3, 'F1': SVM_f1_rbf_3}\n",
        "d_KNN_3 = {'Accuracy':max(KNN_acc_3), 'Precision':max(KNN_pres_3), 'Recall':max(KNN_re_3), 'F1': max(KNN_f1_3)}\n",
        "d_lo_3 = {'Accuracy': lo_acc_3, 'Precision': lo_pres_3, 'Recall': lo_re_3, 'F1': lo_f1_3}\n",
        "d_tree_3 = {'Accuracy': tree_acc_3, 'Precision': tree_pres_3, 'Recall': tree_re_3, 'F1': tree_f1_3}\n",
        "pd.DataFrame({'Linear Kernel':pd.Series(d_svm_li_3),'Polynomial Kernel' : pd.Series(d_svm_poly_3), 'Sigmoid Kernel':pd.Series(d_svm_sigmoid_3), ' Radial Basis Function Kernel': pd.Series(d_svm_rbf_3),'KNN' : pd.Series(d_KNN_3), 'Logictis Regression':pd.Series(d_lo_3), 'Decision Tree': pd.Series(d_tree_3)})"
      ],
      "metadata": {
        "colab": {
          "base_uri": "https://localhost:8080/",
          "height": 175
        },
        "id": "ffkU8u4wLj1H",
        "outputId": "c6c6ff28-f96c-43d4-ec42-3fed02ff1bb0"
      },
      "execution_count": 14,
      "outputs": [
        {
          "output_type": "execute_result",
          "data": {
            "text/plain": [
              "           Linear Kernel  Polynomial Kernel  Sigmoid Kernel  \\\n",
              "Accuracy        0.983333           0.990741        0.907407   \n",
              "Precision       0.983333           0.990741        0.907407   \n",
              "Recall          0.983333           0.990741        0.907407   \n",
              "F1              0.983333           0.990741        0.907407   \n",
              "\n",
              "            Radial Basis Function Kernel       KNN  Logictis Regression  \\\n",
              "Accuracy                        0.988889  0.992593             0.968519   \n",
              "Precision                       0.988889  0.992593             0.968519   \n",
              "Recall                          0.988889  0.992593             0.968519   \n",
              "F1                              0.988889  0.992593             0.968519   \n",
              "\n",
              "           Decision Tree  \n",
              "Accuracy        0.833333  \n",
              "Precision       0.833333  \n",
              "Recall          0.833333  \n",
              "F1              0.833333  "
            ],
            "text/html": [
              "\n",
              "  <div id=\"df-5b930ea1-5ff7-4cc4-9411-c0d1dddb1960\">\n",
              "    <div class=\"colab-df-container\">\n",
              "      <div>\n",
              "<style scoped>\n",
              "    .dataframe tbody tr th:only-of-type {\n",
              "        vertical-align: middle;\n",
              "    }\n",
              "\n",
              "    .dataframe tbody tr th {\n",
              "        vertical-align: top;\n",
              "    }\n",
              "\n",
              "    .dataframe thead th {\n",
              "        text-align: right;\n",
              "    }\n",
              "</style>\n",
              "<table border=\"1\" class=\"dataframe\">\n",
              "  <thead>\n",
              "    <tr style=\"text-align: right;\">\n",
              "      <th></th>\n",
              "      <th>Linear Kernel</th>\n",
              "      <th>Polynomial Kernel</th>\n",
              "      <th>Sigmoid Kernel</th>\n",
              "      <th>Radial Basis Function Kernel</th>\n",
              "      <th>KNN</th>\n",
              "      <th>Logictis Regression</th>\n",
              "      <th>Decision Tree</th>\n",
              "    </tr>\n",
              "  </thead>\n",
              "  <tbody>\n",
              "    <tr>\n",
              "      <th>Accuracy</th>\n",
              "      <td>0.983333</td>\n",
              "      <td>0.990741</td>\n",
              "      <td>0.907407</td>\n",
              "      <td>0.988889</td>\n",
              "      <td>0.992593</td>\n",
              "      <td>0.968519</td>\n",
              "      <td>0.833333</td>\n",
              "    </tr>\n",
              "    <tr>\n",
              "      <th>Precision</th>\n",
              "      <td>0.983333</td>\n",
              "      <td>0.990741</td>\n",
              "      <td>0.907407</td>\n",
              "      <td>0.988889</td>\n",
              "      <td>0.992593</td>\n",
              "      <td>0.968519</td>\n",
              "      <td>0.833333</td>\n",
              "    </tr>\n",
              "    <tr>\n",
              "      <th>Recall</th>\n",
              "      <td>0.983333</td>\n",
              "      <td>0.990741</td>\n",
              "      <td>0.907407</td>\n",
              "      <td>0.988889</td>\n",
              "      <td>0.992593</td>\n",
              "      <td>0.968519</td>\n",
              "      <td>0.833333</td>\n",
              "    </tr>\n",
              "    <tr>\n",
              "      <th>F1</th>\n",
              "      <td>0.983333</td>\n",
              "      <td>0.990741</td>\n",
              "      <td>0.907407</td>\n",
              "      <td>0.988889</td>\n",
              "      <td>0.992593</td>\n",
              "      <td>0.968519</td>\n",
              "      <td>0.833333</td>\n",
              "    </tr>\n",
              "  </tbody>\n",
              "</table>\n",
              "</div>\n",
              "      <button class=\"colab-df-convert\" onclick=\"convertToInteractive('df-5b930ea1-5ff7-4cc4-9411-c0d1dddb1960')\"\n",
              "              title=\"Convert this dataframe to an interactive table.\"\n",
              "              style=\"display:none;\">\n",
              "        \n",
              "  <svg xmlns=\"http://www.w3.org/2000/svg\" height=\"24px\"viewBox=\"0 0 24 24\"\n",
              "       width=\"24px\">\n",
              "    <path d=\"M0 0h24v24H0V0z\" fill=\"none\"/>\n",
              "    <path d=\"M18.56 5.44l.94 2.06.94-2.06 2.06-.94-2.06-.94-.94-2.06-.94 2.06-2.06.94zm-11 1L8.5 8.5l.94-2.06 2.06-.94-2.06-.94L8.5 2.5l-.94 2.06-2.06.94zm10 10l.94 2.06.94-2.06 2.06-.94-2.06-.94-.94-2.06-.94 2.06-2.06.94z\"/><path d=\"M17.41 7.96l-1.37-1.37c-.4-.4-.92-.59-1.43-.59-.52 0-1.04.2-1.43.59L10.3 9.45l-7.72 7.72c-.78.78-.78 2.05 0 2.83L4 21.41c.39.39.9.59 1.41.59.51 0 1.02-.2 1.41-.59l7.78-7.78 2.81-2.81c.8-.78.8-2.07 0-2.86zM5.41 20L4 18.59l7.72-7.72 1.47 1.35L5.41 20z\"/>\n",
              "  </svg>\n",
              "      </button>\n",
              "      \n",
              "  <style>\n",
              "    .colab-df-container {\n",
              "      display:flex;\n",
              "      flex-wrap:wrap;\n",
              "      gap: 12px;\n",
              "    }\n",
              "\n",
              "    .colab-df-convert {\n",
              "      background-color: #E8F0FE;\n",
              "      border: none;\n",
              "      border-radius: 50%;\n",
              "      cursor: pointer;\n",
              "      display: none;\n",
              "      fill: #1967D2;\n",
              "      height: 32px;\n",
              "      padding: 0 0 0 0;\n",
              "      width: 32px;\n",
              "    }\n",
              "\n",
              "    .colab-df-convert:hover {\n",
              "      background-color: #E2EBFA;\n",
              "      box-shadow: 0px 1px 2px rgba(60, 64, 67, 0.3), 0px 1px 3px 1px rgba(60, 64, 67, 0.15);\n",
              "      fill: #174EA6;\n",
              "    }\n",
              "\n",
              "    [theme=dark] .colab-df-convert {\n",
              "      background-color: #3B4455;\n",
              "      fill: #D2E3FC;\n",
              "    }\n",
              "\n",
              "    [theme=dark] .colab-df-convert:hover {\n",
              "      background-color: #434B5C;\n",
              "      box-shadow: 0px 1px 3px 1px rgba(0, 0, 0, 0.15);\n",
              "      filter: drop-shadow(0px 1px 2px rgba(0, 0, 0, 0.3));\n",
              "      fill: #FFFFFF;\n",
              "    }\n",
              "  </style>\n",
              "\n",
              "      <script>\n",
              "        const buttonEl =\n",
              "          document.querySelector('#df-5b930ea1-5ff7-4cc4-9411-c0d1dddb1960 button.colab-df-convert');\n",
              "        buttonEl.style.display =\n",
              "          google.colab.kernel.accessAllowed ? 'block' : 'none';\n",
              "\n",
              "        async function convertToInteractive(key) {\n",
              "          const element = document.querySelector('#df-5b930ea1-5ff7-4cc4-9411-c0d1dddb1960');\n",
              "          const dataTable =\n",
              "            await google.colab.kernel.invokeFunction('convertToInteractive',\n",
              "                                                     [key], {});\n",
              "          if (!dataTable) return;\n",
              "\n",
              "          const docLinkHtml = 'Like what you see? Visit the ' +\n",
              "            '<a target=\"_blank\" href=https://colab.research.google.com/notebooks/data_table.ipynb>data table notebook</a>'\n",
              "            + ' to learn more about interactive tables.';\n",
              "          element.innerHTML = '';\n",
              "          dataTable['output_type'] = 'display_data';\n",
              "          await google.colab.output.renderOutput(dataTable, element);\n",
              "          const docLink = document.createElement('div');\n",
              "          docLink.innerHTML = docLinkHtml;\n",
              "          element.appendChild(docLink);\n",
              "        }\n",
              "      </script>\n",
              "    </div>\n",
              "  </div>\n",
              "  "
            ]
          },
          "metadata": {},
          "execution_count": 14
        }
      ]
    },
    {
      "cell_type": "markdown",
      "source": [
        "#Task 4. \n",
        "Compare the performance of selected classification algorithms (Decision Tree, kNN, Logistic Regression) and SVM (using different kernels) with **credit card dataset** based on accuracy, precision, recall, f1 measures.\n",
        "\n",
        "*   Give some comments on the obtained results\n",
        "*   Identify issues with dataset, and propose the solutions to these issues\n",
        "\n"
      ],
      "metadata": {
        "id": "Z5pp7_h-aP2u"
      }
    },
    {
      "cell_type": "code",
      "source": [
        "data = pd.read_csv('creditcard.csv')\n",
        "x_train_3, x_test_3, y_train_3, y_test_3 = tts(data.iloc[:, :30].values, data[['Class']],train_size=0.3, test_size=0.1, random_state=1)"
      ],
      "metadata": {
        "id": "Rw_-8FIf2KxW"
      },
      "execution_count": 21,
      "outputs": []
    },
    {
      "cell_type": "code",
      "source": [
        "#KNN\n",
        "k_range_3 = np.arange(1,30,2)\n",
        "KNN_acc_3 =[]\n",
        "KNN_pres_3 = []\n",
        "KNN_re_3 =[]\n",
        "KNN_f1_3 = []\n",
        "for k in k_range_3:\n",
        "  KNN_3 = KNeighborsClassifier(n_neighbors=k)\n",
        "  KNN_3.fit(x_train_3, y_train_3)\n",
        "  pred_3 = KNN_3.predict(x_test_3)\n",
        "  KNN_acc_3.append(m.accuracy_score(y_test_3, pred_3))\n",
        "  KNN_pres_3.append(m.precision_score(y_test_3, pred_3, average='micro'))\n",
        "  KNN_re_3.append( m.recall_score(y_test_3, pred_3, average='micro'))\n",
        "  KNN_f1_3.append(m.f1_score(y_test_3, pred_3, average='micro'))"
      ],
      "metadata": {
        "colab": {
          "base_uri": "https://localhost:8080/"
        },
        "id": "T9rKzYJVSgLu",
        "outputId": "072f1c55-25e6-4caf-e42a-e4e8710fd611"
      },
      "execution_count": 22,
      "outputs": [
        {
          "output_type": "stream",
          "name": "stderr",
          "text": [
            "/usr/local/lib/python3.9/dist-packages/sklearn/neighbors/_classification.py:215: DataConversionWarning: A column-vector y was passed when a 1d array was expected. Please change the shape of y to (n_samples,), for example using ravel().\n",
            "  return self._fit(X, y)\n",
            "/usr/local/lib/python3.9/dist-packages/sklearn/neighbors/_classification.py:215: DataConversionWarning: A column-vector y was passed when a 1d array was expected. Please change the shape of y to (n_samples,), for example using ravel().\n",
            "  return self._fit(X, y)\n",
            "/usr/local/lib/python3.9/dist-packages/sklearn/neighbors/_classification.py:215: DataConversionWarning: A column-vector y was passed when a 1d array was expected. Please change the shape of y to (n_samples,), for example using ravel().\n",
            "  return self._fit(X, y)\n",
            "/usr/local/lib/python3.9/dist-packages/sklearn/neighbors/_classification.py:215: DataConversionWarning: A column-vector y was passed when a 1d array was expected. Please change the shape of y to (n_samples,), for example using ravel().\n",
            "  return self._fit(X, y)\n",
            "/usr/local/lib/python3.9/dist-packages/sklearn/neighbors/_classification.py:215: DataConversionWarning: A column-vector y was passed when a 1d array was expected. Please change the shape of y to (n_samples,), for example using ravel().\n",
            "  return self._fit(X, y)\n",
            "/usr/local/lib/python3.9/dist-packages/sklearn/neighbors/_classification.py:215: DataConversionWarning: A column-vector y was passed when a 1d array was expected. Please change the shape of y to (n_samples,), for example using ravel().\n",
            "  return self._fit(X, y)\n",
            "/usr/local/lib/python3.9/dist-packages/sklearn/neighbors/_classification.py:215: DataConversionWarning: A column-vector y was passed when a 1d array was expected. Please change the shape of y to (n_samples,), for example using ravel().\n",
            "  return self._fit(X, y)\n",
            "/usr/local/lib/python3.9/dist-packages/sklearn/neighbors/_classification.py:215: DataConversionWarning: A column-vector y was passed when a 1d array was expected. Please change the shape of y to (n_samples,), for example using ravel().\n",
            "  return self._fit(X, y)\n",
            "/usr/local/lib/python3.9/dist-packages/sklearn/neighbors/_classification.py:215: DataConversionWarning: A column-vector y was passed when a 1d array was expected. Please change the shape of y to (n_samples,), for example using ravel().\n",
            "  return self._fit(X, y)\n",
            "/usr/local/lib/python3.9/dist-packages/sklearn/neighbors/_classification.py:215: DataConversionWarning: A column-vector y was passed when a 1d array was expected. Please change the shape of y to (n_samples,), for example using ravel().\n",
            "  return self._fit(X, y)\n",
            "/usr/local/lib/python3.9/dist-packages/sklearn/neighbors/_classification.py:215: DataConversionWarning: A column-vector y was passed when a 1d array was expected. Please change the shape of y to (n_samples,), for example using ravel().\n",
            "  return self._fit(X, y)\n",
            "/usr/local/lib/python3.9/dist-packages/sklearn/neighbors/_classification.py:215: DataConversionWarning: A column-vector y was passed when a 1d array was expected. Please change the shape of y to (n_samples,), for example using ravel().\n",
            "  return self._fit(X, y)\n",
            "/usr/local/lib/python3.9/dist-packages/sklearn/neighbors/_classification.py:215: DataConversionWarning: A column-vector y was passed when a 1d array was expected. Please change the shape of y to (n_samples,), for example using ravel().\n",
            "  return self._fit(X, y)\n",
            "/usr/local/lib/python3.9/dist-packages/sklearn/neighbors/_classification.py:215: DataConversionWarning: A column-vector y was passed when a 1d array was expected. Please change the shape of y to (n_samples,), for example using ravel().\n",
            "  return self._fit(X, y)\n",
            "/usr/local/lib/python3.9/dist-packages/sklearn/neighbors/_classification.py:215: DataConversionWarning: A column-vector y was passed when a 1d array was expected. Please change the shape of y to (n_samples,), for example using ravel().\n",
            "  return self._fit(X, y)\n"
          ]
        }
      ]
    },
    {
      "cell_type": "code",
      "source": [
        "tree_clf_3 = tree.DecisionTreeClassifier(random_state=50)\n",
        "tree_clf_3.fit(x_train_3, y_train_3)\n",
        "tree_y_pred_3 = tree_clf_3.predict(x_test_3)\n",
        "tree_acc_3 = m.accuracy_score(y_test_3, tree_y_pred_3)\n",
        "tree_pres_3 = m.precision_score(y_test_3, tree_y_pred_3, average='micro')\n",
        "tree_re_3 = m.recall_score(y_test_3,tree_y_pred_3, average='micro')\n",
        "tree_f1_3 = m.f1_score(y_test_3, tree_y_pred_3, average='micro')"
      ],
      "metadata": {
        "id": "EhjjgjBCVZ41"
      },
      "execution_count": 23,
      "outputs": []
    },
    {
      "cell_type": "code",
      "source": [
        "#Logistic\n",
        "lo_clf_3 = LogisticRegression(random_state = 0)\n",
        "lo_clf_3.fit(x_train_3, y_train_3)\n",
        "lo_y_pred_3 = lo_clf_3.predict(x_test_3)\n",
        "lo_acc_3 = m.accuracy_score(y_test_3, lo_y_pred_3)\n",
        "lo_pres_3 = m.precision_score(y_test_3, lo_y_pred_3, average='micro')\n",
        "lo_re_3 = m.recall_score(y_test_3, lo_y_pred_3, average='micro')\n",
        "lo_f1_3 = m.f1_score(y_test_3, lo_y_pred_3, average='micro')"
      ],
      "metadata": {
        "colab": {
          "base_uri": "https://localhost:8080/"
        },
        "id": "VtSp-yHMWQOr",
        "outputId": "6c9f76cb-8b6a-4786-f193-5c50d8df88f2"
      },
      "execution_count": 24,
      "outputs": [
        {
          "output_type": "stream",
          "name": "stderr",
          "text": [
            "/usr/local/lib/python3.9/dist-packages/sklearn/utils/validation.py:1143: DataConversionWarning: A column-vector y was passed when a 1d array was expected. Please change the shape of y to (n_samples, ), for example using ravel().\n",
            "  y = column_or_1d(y, warn=True)\n",
            "/usr/local/lib/python3.9/dist-packages/sklearn/linear_model/_logistic.py:458: ConvergenceWarning: lbfgs failed to converge (status=1):\n",
            "STOP: TOTAL NO. of ITERATIONS REACHED LIMIT.\n",
            "\n",
            "Increase the number of iterations (max_iter) or scale the data as shown in:\n",
            "    https://scikit-learn.org/stable/modules/preprocessing.html\n",
            "Please also refer to the documentation for alternative solver options:\n",
            "    https://scikit-learn.org/stable/modules/linear_model.html#logistic-regression\n",
            "  n_iter_i = _check_optimize_result(\n"
          ]
        }
      ]
    },
    {
      "cell_type": "code",
      "source": [
        "clf_li_3 = svm.SVC(kernel='linear')\n",
        "clf_li_3.fit(x_train_3, y_train_3)\n",
        "SVM_y_pred_li_3 = clf_li_3.predict(x_test_3)\n",
        "SVM_pres_li_3 = m.precision_score(y_test_3, SVM_y_pred_li_3 , average='micro')\n",
        "SVM_re_li_3 = m.recall_score(y_test_3,SVM_y_pred_li_3 , average='micro')\n",
        "SVM_f1_li_3 = m.f1_score(y_test_3, SVM_y_pred_li_3 , average='micro')\n",
        "SVM_acc_li_3 = m.accuracy_score(y_test_3, SVM_y_pred_li_3 )\n",
        "print(m.classification_report(y_test_3,SVM_y_pred_li_3 ))"
      ],
      "metadata": {
        "colab": {
          "base_uri": "https://localhost:8080/"
        },
        "id": "yFBWe3u0WSHQ",
        "outputId": "18b84b60-a520-4e6e-b529-ff8608692a06"
      },
      "execution_count": 25,
      "outputs": [
        {
          "output_type": "stream",
          "name": "stderr",
          "text": [
            "/usr/local/lib/python3.9/dist-packages/sklearn/utils/validation.py:1143: DataConversionWarning: A column-vector y was passed when a 1d array was expected. Please change the shape of y to (n_samples, ), for example using ravel().\n",
            "  y = column_or_1d(y, warn=True)\n"
          ]
        },
        {
          "output_type": "stream",
          "name": "stdout",
          "text": [
            "              precision    recall  f1-score   support\n",
            "\n",
            "           0       1.00      1.00      1.00     28432\n",
            "           1       0.46      0.24      0.32        49\n",
            "\n",
            "    accuracy                           1.00     28481\n",
            "   macro avg       0.73      0.62      0.66     28481\n",
            "weighted avg       1.00      1.00      1.00     28481\n",
            "\n"
          ]
        }
      ]
    },
    {
      "cell_type": "code",
      "source": [
        "clf_poly_3 = svm.SVC(kernel='poly')\n",
        "clf_poly_3.fit(x_train_3, y_train_3)\n",
        "SVM_y_pred_poly_3 = clf_poly_3.predict(x_test_3)\n",
        "SVM_pres_poly_3 = m.precision_score(y_test_3, SVM_y_pred_poly_3, average='micro')\n",
        "SVM_re_poly_3 = m.recall_score(y_test_3,SVM_y_pred_poly_3, average='micro')\n",
        "SVM_f1_poly_3 = m.f1_score(y_test_3, SVM_y_pred_poly_3, average='micro')\n",
        "SVM_acc_poly_3 = m.accuracy_score(y_test_3, SVM_y_pred_poly_3)\n",
        "print(m.classification_report(y_test_3,SVM_y_pred_poly_3))"
      ],
      "metadata": {
        "colab": {
          "base_uri": "https://localhost:8080/"
        },
        "id": "Jh-IBVCjWWgD",
        "outputId": "bd9cd066-8d77-4997-9cd3-9956ca3694d1"
      },
      "execution_count": 26,
      "outputs": [
        {
          "output_type": "stream",
          "name": "stderr",
          "text": [
            "/usr/local/lib/python3.9/dist-packages/sklearn/utils/validation.py:1143: DataConversionWarning: A column-vector y was passed when a 1d array was expected. Please change the shape of y to (n_samples, ), for example using ravel().\n",
            "  y = column_or_1d(y, warn=True)\n"
          ]
        },
        {
          "output_type": "stream",
          "name": "stdout",
          "text": [
            "              precision    recall  f1-score   support\n",
            "\n",
            "           0       1.00      1.00      1.00     28432\n",
            "           1       0.00      0.00      0.00        49\n",
            "\n",
            "    accuracy                           1.00     28481\n",
            "   macro avg       0.50      0.50      0.50     28481\n",
            "weighted avg       1.00      1.00      1.00     28481\n",
            "\n"
          ]
        },
        {
          "output_type": "stream",
          "name": "stderr",
          "text": [
            "/usr/local/lib/python3.9/dist-packages/sklearn/metrics/_classification.py:1344: UndefinedMetricWarning: Precision and F-score are ill-defined and being set to 0.0 in labels with no predicted samples. Use `zero_division` parameter to control this behavior.\n",
            "  _warn_prf(average, modifier, msg_start, len(result))\n",
            "/usr/local/lib/python3.9/dist-packages/sklearn/metrics/_classification.py:1344: UndefinedMetricWarning: Precision and F-score are ill-defined and being set to 0.0 in labels with no predicted samples. Use `zero_division` parameter to control this behavior.\n",
            "  _warn_prf(average, modifier, msg_start, len(result))\n",
            "/usr/local/lib/python3.9/dist-packages/sklearn/metrics/_classification.py:1344: UndefinedMetricWarning: Precision and F-score are ill-defined and being set to 0.0 in labels with no predicted samples. Use `zero_division` parameter to control this behavior.\n",
            "  _warn_prf(average, modifier, msg_start, len(result))\n"
          ]
        }
      ]
    },
    {
      "cell_type": "code",
      "source": [
        "clf_sigmoid_3 = svm.SVC(kernel='sigmoid')\n",
        "clf_sigmoid_3.fit(x_train_3, y_train_3)\n",
        "SVM_y_pred_sigmoid_3 = clf_sigmoid_3.predict(x_test_3)\n",
        "SVM_pres_sigmoid_3 = m.precision_score(y_test_3, SVM_y_pred_sigmoid_3, average='micro')\n",
        "SVM_re_sigmoid_3 = m.recall_score(y_test_3,SVM_y_pred_sigmoid_3, average='micro')\n",
        "SVM_f1_sigmoid_3 = m.f1_score(y_test_3, SVM_y_pred_sigmoid_3, average='micro')\n",
        "SVM_acc_sigmoid_3 = m.accuracy_score(y_test_3, SVM_y_pred_sigmoid_3)\n",
        "print(m.classification_report(y_test_3,SVM_y_pred_sigmoid_3))"
      ],
      "metadata": {
        "colab": {
          "base_uri": "https://localhost:8080/"
        },
        "id": "ejym_3HYWZMm",
        "outputId": "87e011b1-afc0-455f-a1cc-35458ffb6916"
      },
      "execution_count": 27,
      "outputs": [
        {
          "output_type": "stream",
          "name": "stderr",
          "text": [
            "/usr/local/lib/python3.9/dist-packages/sklearn/utils/validation.py:1143: DataConversionWarning: A column-vector y was passed when a 1d array was expected. Please change the shape of y to (n_samples, ), for example using ravel().\n",
            "  y = column_or_1d(y, warn=True)\n"
          ]
        },
        {
          "output_type": "stream",
          "name": "stdout",
          "text": [
            "              precision    recall  f1-score   support\n",
            "\n",
            "           0       1.00      1.00      1.00     28432\n",
            "           1       0.00      0.00      0.00        49\n",
            "\n",
            "    accuracy                           1.00     28481\n",
            "   macro avg       0.50      0.50      0.50     28481\n",
            "weighted avg       1.00      1.00      1.00     28481\n",
            "\n"
          ]
        },
        {
          "output_type": "stream",
          "name": "stderr",
          "text": [
            "/usr/local/lib/python3.9/dist-packages/sklearn/metrics/_classification.py:1344: UndefinedMetricWarning: Precision and F-score are ill-defined and being set to 0.0 in labels with no predicted samples. Use `zero_division` parameter to control this behavior.\n",
            "  _warn_prf(average, modifier, msg_start, len(result))\n",
            "/usr/local/lib/python3.9/dist-packages/sklearn/metrics/_classification.py:1344: UndefinedMetricWarning: Precision and F-score are ill-defined and being set to 0.0 in labels with no predicted samples. Use `zero_division` parameter to control this behavior.\n",
            "  _warn_prf(average, modifier, msg_start, len(result))\n",
            "/usr/local/lib/python3.9/dist-packages/sklearn/metrics/_classification.py:1344: UndefinedMetricWarning: Precision and F-score are ill-defined and being set to 0.0 in labels with no predicted samples. Use `zero_division` parameter to control this behavior.\n",
            "  _warn_prf(average, modifier, msg_start, len(result))\n"
          ]
        }
      ]
    },
    {
      "cell_type": "code",
      "source": [
        "clf_rbf_3 = svm.SVC(kernel='rbf')\n",
        "clf_rbf_3.fit(x_train_3, y_train_3)\n",
        "SVM_y_pred_rbf_3 = clf_rbf_3.predict(x_test_3)\n",
        "SVM_pres_rbf_3 = m.precision_score(y_test_3, SVM_y_pred_rbf_3, average='micro')\n",
        "SVM_re_rbf_3 = m.recall_score(y_test_3,SVM_y_pred_rbf_3, average='micro')\n",
        "SVM_f1_rbf_3 = m.f1_score(y_test_3, SVM_y_pred_rbf_3, average='micro')\n",
        "SVM_acc_rbf_3 = m.accuracy_score(y_test_3, SVM_y_pred_rbf_3)\n",
        "print(m.classification_report(y_test_3,SVM_y_pred_rbf_3))"
      ],
      "metadata": {
        "colab": {
          "base_uri": "https://localhost:8080/"
        },
        "id": "xZolxby8WbFj",
        "outputId": "ee6688b4-3b7d-49b4-e389-783308ef71e7"
      },
      "execution_count": 28,
      "outputs": [
        {
          "output_type": "stream",
          "name": "stderr",
          "text": [
            "/usr/local/lib/python3.9/dist-packages/sklearn/utils/validation.py:1143: DataConversionWarning: A column-vector y was passed when a 1d array was expected. Please change the shape of y to (n_samples, ), for example using ravel().\n",
            "  y = column_or_1d(y, warn=True)\n"
          ]
        },
        {
          "output_type": "stream",
          "name": "stdout",
          "text": [
            "              precision    recall  f1-score   support\n",
            "\n",
            "           0       1.00      1.00      1.00     28432\n",
            "           1       0.00      0.00      0.00        49\n",
            "\n",
            "    accuracy                           1.00     28481\n",
            "   macro avg       0.50      0.50      0.50     28481\n",
            "weighted avg       1.00      1.00      1.00     28481\n",
            "\n"
          ]
        },
        {
          "output_type": "stream",
          "name": "stderr",
          "text": [
            "/usr/local/lib/python3.9/dist-packages/sklearn/metrics/_classification.py:1344: UndefinedMetricWarning: Precision and F-score are ill-defined and being set to 0.0 in labels with no predicted samples. Use `zero_division` parameter to control this behavior.\n",
            "  _warn_prf(average, modifier, msg_start, len(result))\n",
            "/usr/local/lib/python3.9/dist-packages/sklearn/metrics/_classification.py:1344: UndefinedMetricWarning: Precision and F-score are ill-defined and being set to 0.0 in labels with no predicted samples. Use `zero_division` parameter to control this behavior.\n",
            "  _warn_prf(average, modifier, msg_start, len(result))\n",
            "/usr/local/lib/python3.9/dist-packages/sklearn/metrics/_classification.py:1344: UndefinedMetricWarning: Precision and F-score are ill-defined and being set to 0.0 in labels with no predicted samples. Use `zero_division` parameter to control this behavior.\n",
            "  _warn_prf(average, modifier, msg_start, len(result))\n"
          ]
        }
      ]
    },
    {
      "cell_type": "code",
      "source": [
        "d_svm_li_3 = {'Accuracy': SVM_acc_li_3, 'Precision': SVM_pres_li_3, 'Recall': SVM_re_li_3, 'F1': SVM_f1_li_3}\n",
        "d_svm_poly_3 = {'Accuracy': SVM_acc_poly_3, 'Precision': SVM_pres_poly_3, 'Recall': SVM_re_poly_3, 'F1': SVM_f1_poly_3}\n",
        "d_svm_sigmoid_3 = {'Accuracy': SVM_acc_sigmoid_3, 'Precision': SVM_pres_sigmoid_3, 'Recall': SVM_re_sigmoid_3, 'F1': SVM_f1_sigmoid_3}\n",
        "d_svm_rbf_3 = {'Accuracy': SVM_acc_rbf_3, 'Precision': SVM_pres_rbf_3, 'Recall': SVM_re_rbf_3, 'F1': SVM_f1_rbf_3}\n",
        "d_KNN_3 = {'Accuracy':max(KNN_acc_3), 'Precision':max(KNN_pres_3), 'Recall':max(KNN_re_3), 'F1': max(KNN_f1_3)}\n",
        "d_lo_3 = {'Accuracy': lo_acc_3, 'Precision': lo_pres_3, 'Recall': lo_re_3, 'F1': lo_f1_3}\n",
        "d_tree_3 = {'Accuracy': tree_acc_3, 'Precision': tree_pres_3, 'Recall': tree_re_3, 'F1': tree_f1_3}\n",
        "pd.DataFrame({'Linear Kernel':pd.Series(d_svm_li_3),'Polynomial Kernel' : pd.Series(d_svm_poly_3), 'Sigmoid Kernel':pd.Series(d_svm_sigmoid_3), ' Radial Basis Function Kernel': pd.Series(d_svm_rbf_3),'KNN' : pd.Series(d_KNN_3), 'Logictis Regression':pd.Series(d_lo_3), 'Decision Tree': pd.Series(d_tree_3)})"
      ],
      "metadata": {
        "colab": {
          "base_uri": "https://localhost:8080/",
          "height": 175
        },
        "id": "H5TyPdyBaauE",
        "outputId": "6ad41624-3a30-4abe-e8d1-00bcd6df1894"
      },
      "execution_count": 29,
      "outputs": [
        {
          "output_type": "execute_result",
          "data": {
            "text/plain": [
              "           Linear Kernel  Polynomial Kernel  Sigmoid Kernel  \\\n",
              "Accuracy        0.998209            0.99828         0.99828   \n",
              "Precision       0.998209            0.99828         0.99828   \n",
              "Recall          0.998209            0.99828         0.99828   \n",
              "F1              0.998209            0.99828         0.99828   \n",
              "\n",
              "            Radial Basis Function Kernel      KNN  Logictis Regression  \\\n",
              "Accuracy                         0.99828  0.99828             0.998876   \n",
              "Precision                        0.99828  0.99828             0.998876   \n",
              "Recall                           0.99828  0.99828             0.998876   \n",
              "F1                               0.99828  0.99828             0.998876   \n",
              "\n",
              "           Decision Tree  \n",
              "Accuracy        0.998947  \n",
              "Precision       0.998947  \n",
              "Recall          0.998947  \n",
              "F1              0.998947  "
            ],
            "text/html": [
              "\n",
              "  <div id=\"df-c428e2cd-493f-4b1b-a49d-7eb2d3886525\">\n",
              "    <div class=\"colab-df-container\">\n",
              "      <div>\n",
              "<style scoped>\n",
              "    .dataframe tbody tr th:only-of-type {\n",
              "        vertical-align: middle;\n",
              "    }\n",
              "\n",
              "    .dataframe tbody tr th {\n",
              "        vertical-align: top;\n",
              "    }\n",
              "\n",
              "    .dataframe thead th {\n",
              "        text-align: right;\n",
              "    }\n",
              "</style>\n",
              "<table border=\"1\" class=\"dataframe\">\n",
              "  <thead>\n",
              "    <tr style=\"text-align: right;\">\n",
              "      <th></th>\n",
              "      <th>Linear Kernel</th>\n",
              "      <th>Polynomial Kernel</th>\n",
              "      <th>Sigmoid Kernel</th>\n",
              "      <th>Radial Basis Function Kernel</th>\n",
              "      <th>KNN</th>\n",
              "      <th>Logictis Regression</th>\n",
              "      <th>Decision Tree</th>\n",
              "    </tr>\n",
              "  </thead>\n",
              "  <tbody>\n",
              "    <tr>\n",
              "      <th>Accuracy</th>\n",
              "      <td>0.998209</td>\n",
              "      <td>0.99828</td>\n",
              "      <td>0.99828</td>\n",
              "      <td>0.99828</td>\n",
              "      <td>0.99828</td>\n",
              "      <td>0.998876</td>\n",
              "      <td>0.998947</td>\n",
              "    </tr>\n",
              "    <tr>\n",
              "      <th>Precision</th>\n",
              "      <td>0.998209</td>\n",
              "      <td>0.99828</td>\n",
              "      <td>0.99828</td>\n",
              "      <td>0.99828</td>\n",
              "      <td>0.99828</td>\n",
              "      <td>0.998876</td>\n",
              "      <td>0.998947</td>\n",
              "    </tr>\n",
              "    <tr>\n",
              "      <th>Recall</th>\n",
              "      <td>0.998209</td>\n",
              "      <td>0.99828</td>\n",
              "      <td>0.99828</td>\n",
              "      <td>0.99828</td>\n",
              "      <td>0.99828</td>\n",
              "      <td>0.998876</td>\n",
              "      <td>0.998947</td>\n",
              "    </tr>\n",
              "    <tr>\n",
              "      <th>F1</th>\n",
              "      <td>0.998209</td>\n",
              "      <td>0.99828</td>\n",
              "      <td>0.99828</td>\n",
              "      <td>0.99828</td>\n",
              "      <td>0.99828</td>\n",
              "      <td>0.998876</td>\n",
              "      <td>0.998947</td>\n",
              "    </tr>\n",
              "  </tbody>\n",
              "</table>\n",
              "</div>\n",
              "      <button class=\"colab-df-convert\" onclick=\"convertToInteractive('df-c428e2cd-493f-4b1b-a49d-7eb2d3886525')\"\n",
              "              title=\"Convert this dataframe to an interactive table.\"\n",
              "              style=\"display:none;\">\n",
              "        \n",
              "  <svg xmlns=\"http://www.w3.org/2000/svg\" height=\"24px\"viewBox=\"0 0 24 24\"\n",
              "       width=\"24px\">\n",
              "    <path d=\"M0 0h24v24H0V0z\" fill=\"none\"/>\n",
              "    <path d=\"M18.56 5.44l.94 2.06.94-2.06 2.06-.94-2.06-.94-.94-2.06-.94 2.06-2.06.94zm-11 1L8.5 8.5l.94-2.06 2.06-.94-2.06-.94L8.5 2.5l-.94 2.06-2.06.94zm10 10l.94 2.06.94-2.06 2.06-.94-2.06-.94-.94-2.06-.94 2.06-2.06.94z\"/><path d=\"M17.41 7.96l-1.37-1.37c-.4-.4-.92-.59-1.43-.59-.52 0-1.04.2-1.43.59L10.3 9.45l-7.72 7.72c-.78.78-.78 2.05 0 2.83L4 21.41c.39.39.9.59 1.41.59.51 0 1.02-.2 1.41-.59l7.78-7.78 2.81-2.81c.8-.78.8-2.07 0-2.86zM5.41 20L4 18.59l7.72-7.72 1.47 1.35L5.41 20z\"/>\n",
              "  </svg>\n",
              "      </button>\n",
              "      \n",
              "  <style>\n",
              "    .colab-df-container {\n",
              "      display:flex;\n",
              "      flex-wrap:wrap;\n",
              "      gap: 12px;\n",
              "    }\n",
              "\n",
              "    .colab-df-convert {\n",
              "      background-color: #E8F0FE;\n",
              "      border: none;\n",
              "      border-radius: 50%;\n",
              "      cursor: pointer;\n",
              "      display: none;\n",
              "      fill: #1967D2;\n",
              "      height: 32px;\n",
              "      padding: 0 0 0 0;\n",
              "      width: 32px;\n",
              "    }\n",
              "\n",
              "    .colab-df-convert:hover {\n",
              "      background-color: #E2EBFA;\n",
              "      box-shadow: 0px 1px 2px rgba(60, 64, 67, 0.3), 0px 1px 3px 1px rgba(60, 64, 67, 0.15);\n",
              "      fill: #174EA6;\n",
              "    }\n",
              "\n",
              "    [theme=dark] .colab-df-convert {\n",
              "      background-color: #3B4455;\n",
              "      fill: #D2E3FC;\n",
              "    }\n",
              "\n",
              "    [theme=dark] .colab-df-convert:hover {\n",
              "      background-color: #434B5C;\n",
              "      box-shadow: 0px 1px 3px 1px rgba(0, 0, 0, 0.15);\n",
              "      filter: drop-shadow(0px 1px 2px rgba(0, 0, 0, 0.3));\n",
              "      fill: #FFFFFF;\n",
              "    }\n",
              "  </style>\n",
              "\n",
              "      <script>\n",
              "        const buttonEl =\n",
              "          document.querySelector('#df-c428e2cd-493f-4b1b-a49d-7eb2d3886525 button.colab-df-convert');\n",
              "        buttonEl.style.display =\n",
              "          google.colab.kernel.accessAllowed ? 'block' : 'none';\n",
              "\n",
              "        async function convertToInteractive(key) {\n",
              "          const element = document.querySelector('#df-c428e2cd-493f-4b1b-a49d-7eb2d3886525');\n",
              "          const dataTable =\n",
              "            await google.colab.kernel.invokeFunction('convertToInteractive',\n",
              "                                                     [key], {});\n",
              "          if (!dataTable) return;\n",
              "\n",
              "          const docLinkHtml = 'Like what you see? Visit the ' +\n",
              "            '<a target=\"_blank\" href=https://colab.research.google.com/notebooks/data_table.ipynb>data table notebook</a>'\n",
              "            + ' to learn more about interactive tables.';\n",
              "          element.innerHTML = '';\n",
              "          dataTable['output_type'] = 'display_data';\n",
              "          await google.colab.output.renderOutput(dataTable, element);\n",
              "          const docLink = document.createElement('div');\n",
              "          docLink.innerHTML = docLinkHtml;\n",
              "          element.appendChild(docLink);\n",
              "        }\n",
              "      </script>\n",
              "    </div>\n",
              "  </div>\n",
              "  "
            ]
          },
          "metadata": {},
          "execution_count": 29
        }
      ]
    },
    {
      "cell_type": "markdown",
      "source": [
        "#Finally,\n",
        "Save a copy in your Github. Remember renaming the notebook."
      ],
      "metadata": {
        "id": "Ok7RGkea_b7n"
      }
    }
  ]
}