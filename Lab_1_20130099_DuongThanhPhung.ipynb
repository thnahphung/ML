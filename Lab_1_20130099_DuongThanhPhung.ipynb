{
  "nbformat": 4,
  "nbformat_minor": 0,
  "metadata": {
    "colab": {
      "provenance": [],
      "authorship_tag": "ABX9TyP7+6e5PwDi1pyObSpieU9f",
      "include_colab_link": true
    },
    "kernelspec": {
      "name": "python3",
      "display_name": "Python 3"
    },
    "language_info": {
      "name": "python"
    }
  },
  "cells": [
    {
      "cell_type": "markdown",
      "metadata": {
        "id": "view-in-github",
        "colab_type": "text"
      },
      "source": [
        "<a href=\"https://colab.research.google.com/github/thnahphung/ML/blob/main/Lab_1_20130099_DuongThanhPhung.ipynb\" target=\"_parent\"><img src=\"https://colab.research.google.com/assets/colab-badge.svg\" alt=\"Open In Colab\"/></a>"
      ]
    },
    {
      "cell_type": "markdown",
      "source": [
        "Task 1.1. Develop a Python program to perform the following tasks:\n",
        "– Input an integer number n.\n",
        "– Input n integer numbers x1, x2,..., xn and append them into a list L.\n",
        "– Find the max/min element in L.\n",
        "– Compute the sum of elements in L.\n",
        "– Sort the list L in ascending order.\n",
        "– Show how many positive and negative numbers are in the list L."
      ],
      "metadata": {
        "id": "b4Xn9KcHbp5E"
      }
    },
    {
      "cell_type": "code",
      "source": [
        "def fun(listNum):\n",
        "    positive = 0\n",
        "    negative = 0\n",
        "    zero = 0\n",
        "    for num in listNum:\n",
        "        if num < 0:\n",
        "            positive += 1\n",
        "        elif num > 0:\n",
        "            negative += 1\n",
        "        else:\n",
        "            zero += 1\n",
        "    return positive, negative, zero\n",
        "\n",
        "\n",
        "n = int(input('n: '))\n",
        "listNum = []\n",
        "for i in range(n):\n",
        "    listNum.append(int(input('n' + str(i) + ': ')))\n",
        "\n",
        "print(listNum)\n",
        "print('max: ', max(listNum))\n",
        "print('min: ', min(listNum))\n",
        "print('sum: ', sum(listNum))\n",
        "print('sort: ', sorted(listNum))\n",
        "\n",
        "positive, negative, zero = fun(listNum)\n",
        "print('positive: ', positive)\n",
        "print('negative: ', negative)\n",
        "print('zero: ', zero)\n"
      ],
      "metadata": {
        "colab": {
          "base_uri": "https://localhost:8080/"
        },
        "id": "DcX8tOC1CTcG",
        "outputId": "2b28ae4e-a4ff-4ffc-c5b5-03e5c72ad280"
      },
      "execution_count": null,
      "outputs": [
        {
          "output_type": "stream",
          "name": "stdout",
          "text": [
            "n: 5\n",
            "n0: -1\n",
            "n1: 134\n",
            "n2: -12\n",
            "n3: 543\n",
            "n4: 0\n",
            "[-1, 134, -12, 543, 0]\n",
            "max:  543\n",
            "min:  -12\n",
            "sum:  664\n",
            "sort:  [-12, -1, 0, 134, 543]\n",
            "positive:  2\n",
            "negative:  2\n",
            "zero:  1\n"
          ]
        }
      ]
    },
    {
      "cell_type": "markdown",
      "source": [
        "Task 1.2. Develop a Python program to compute Sn as follows:"
      ],
      "metadata": {
        "id": "8pUa97tDEAZz"
      }
    },
    {
      "cell_type": "code",
      "source": [
        "def Sn(n):\n",
        "    sn = 0\n",
        "    for i in range(n):\n",
        "        sn += 1 / (2 * i + 1)\n",
        "    return sn\n",
        "\n",
        "n = int(input(\"n: \"))\n",
        "print(Sn(n))"
      ],
      "metadata": {
        "colab": {
          "base_uri": "https://localhost:8080/"
        },
        "id": "1-MGbxNoCkI7",
        "outputId": "0374c84d-3e29-495e-e01d-703938378d0e"
      },
      "execution_count": null,
      "outputs": [
        {
          "output_type": "stream",
          "name": "stdout",
          "text": [
            "n: 3\n",
            "1.5333333333333332\n"
          ]
        }
      ]
    },
    {
      "cell_type": "markdown",
      "source": [
        "Task 1.3. For a given class diagram as follows:"
      ],
      "metadata": {
        "id": "DgqUmV2REwBn"
      }
    },
    {
      "cell_type": "code",
      "source": [
        "from abc import ABC, abstractmethod\n",
        "from datetime import date\n",
        "\n",
        "\n",
        "class Order:\n",
        "    def __init__(self, ids, customer, employee, date, items):\n",
        "        self.__ids = ids\n",
        "        self.__customer = customer\n",
        "        self.__employee = employee\n",
        "        self.__date = date\n",
        "        self.__items = items\n",
        "\n",
        "    @property\n",
        "    def ids(self):\n",
        "        return self.__ids\n",
        "\n",
        "    @ids.setter\n",
        "    def ids(self, value):\n",
        "        self.__ids = value\n",
        "\n",
        "    @property\n",
        "    def customer(self):\n",
        "        return self.__customer\n",
        "\n",
        "    @customer.setter\n",
        "    def customer(self, value):\n",
        "        self.__customer = value\n",
        "\n",
        "    @property\n",
        "    def employee(self):\n",
        "        return self.__employee\n",
        "\n",
        "    @employee.setter\n",
        "    def employee(self, value):\n",
        "        self.__employee = value\n",
        "\n",
        "    @property\n",
        "    def date(self):\n",
        "        return self.__date\n",
        "\n",
        "    @date.setter\n",
        "    def date(self, value):\n",
        "        self.__date = value\n",
        "\n",
        "    @property\n",
        "    def items(self):\n",
        "        return self.__items\n",
        "\n",
        "    @items.setter\n",
        "    def items(self, value):\n",
        "        self.__items = value\n",
        "\n",
        "    def __repr__(self):\n",
        "        return str(self.__ids) + \" \" + self.__customer\n",
        "\n",
        "    def getListProductInOrder(self):\n",
        "        result = []\n",
        "        for item in self.__items:\n",
        "            result.append(item.item)\n",
        "        return result\n",
        "\n",
        "    def getProductHighestPriceInOder(self):\n",
        "        return max(self.getListProductInOrder(), key=lambda item: item.price)\n",
        "\n",
        "    def showNumberOfProducts(self):\n",
        "        counts = dict()\n",
        "        for oderItem in self.__items:\n",
        "            counts[oderItem.item] = counts.get(oderItem.item, 0) + oderItem.amount\n",
        "        return counts\n",
        "\n",
        "\n",
        "class OrderItem:\n",
        "    def __init__(self, item, amount):\n",
        "        self.__item = item\n",
        "        self.__amount = amount\n",
        "\n",
        "    @property\n",
        "    def item(self):\n",
        "        return self.__item\n",
        "\n",
        "    @item.setter\n",
        "    def item(self, value):\n",
        "        self.__item = value\n",
        "\n",
        "    @property\n",
        "    def amount(self):\n",
        "        return self.__amount\n",
        "\n",
        "    @amount.setter\n",
        "    def amount(self, value):\n",
        "        self.__amount = value\n",
        "\n",
        "    def __repr__(self):\n",
        "        return str(self.__item) + \" \" + str(self.__amount)\n",
        "\n",
        "\n",
        "class OrderManager:\n",
        "    def __init__(self, orders):\n",
        "        self.__orders = orders\n",
        "\n",
        "    @property\n",
        "    def orders(self):\n",
        "        return self.__orders\n",
        "\n",
        "    @orders.setter\n",
        "    def orders(self, value):\n",
        "        self.__orders = value\n",
        "\n",
        "    def __repr__(self):\n",
        "        return self.__orders\n",
        "\n",
        "    def getListProductHighestPriceInAOder(self):\n",
        "        result = []\n",
        "        for item in self.__orders:\n",
        "            result.append(item.getProductHighestPriceInOder())\n",
        "        return result\n",
        "\n",
        "    def getProductHighestPriceInOders(self):\n",
        "        return max(self.getListProductHighestPriceInAOder(), key=lambda item: item.price)\n",
        "\n",
        "    def showNumberOfProducts(self):\n",
        "        counts = dict()\n",
        "        for oder in self.__orders:\n",
        "            for product, amount in oder.showNumberOfProducts().items():\n",
        "                counts[product] = counts.get(product, 0) + amount\n",
        "        return counts\n",
        "\n",
        "\n",
        "class Product(ABC):\n",
        "    def __init__(self, name, kind, price, expiredDate):\n",
        "        self._name = name\n",
        "        self._kind = kind\n",
        "        self._price = price\n",
        "        self._expiredDate = expiredDate\n",
        "\n",
        "    @property\n",
        "    def name(self):\n",
        "        return self._name\n",
        "\n",
        "    @name.setter\n",
        "    def name(self, value):\n",
        "        self._name = value\n",
        "\n",
        "    @property\n",
        "    def kind(self):\n",
        "        return self._kind\n",
        "\n",
        "    @kind.setter\n",
        "    def kind(self, value):\n",
        "        self._kind = value\n",
        "\n",
        "    @property\n",
        "    def price(self):\n",
        "        return self._price\n",
        "\n",
        "    @price.setter\n",
        "    def price(self, value):\n",
        "        self._price = value\n",
        "\n",
        "    @property\n",
        "    def expiredDate(self):\n",
        "        return self._expiredDate\n",
        "\n",
        "    @expiredDate.setter\n",
        "    def expiredDate(self, value):\n",
        "        self._expiredDate = value\n",
        "\n",
        "    def __repr__(self):\n",
        "        return self.name + \" \" + str(self._price)\n",
        "\n",
        "\n",
        "class ImportedProduct(Product):\n",
        "    def __init__(self, name, kind, price, expiredDate, fromCountry):\n",
        "        super().__init__(name, kind, price, expiredDate)\n",
        "        self.__fromCountry = fromCountry\n",
        "\n",
        "    @property\n",
        "    def fromCountry(self):\n",
        "        return self.__fromCountry\n",
        "\n",
        "    @fromCountry.setter\n",
        "    def fromCountry(self, value):\n",
        "        self.__fromCountry = value\n",
        "\n",
        "    def __repr__(self):\n",
        "        return self.name + \" \" + str(self._price) + ' ' + self.fromCountry\n",
        "\n",
        "\n",
        "class DomesticProduct(Product):\n",
        "    def __init__(self, name, kind, price, expiredDate):\n",
        "        super().__init__(name, kind, price, expiredDate)\n",
        "\n",
        "\n",
        "d = date(2002, 10, 19)\n",
        "p1 = ImportedProduct(\"Xoai\", \"Trai Cay\", 10000, d, 'China')\n",
        "p2 = DomesticProduct(\"Buoi\", \"Trai Cay\", 18000, d)\n",
        "p3 = ImportedProduct(\"Man\", \"Trai Cay\", 100000, d, 'America')\n",
        "p4 = DomesticProduct(\"Mit\", \"Trai Cay\", 400, d)\n",
        "p5 = DomesticProduct(\"Xoai\", \"Trai Cay\", 10000, d)\n",
        "\n",
        "od_item1 = OrderItem(p1, 2)\n",
        "od_item2 = OrderItem(p2, 5)\n",
        "od_item3 = OrderItem(p3, 1)\n",
        "od_item4 = OrderItem(p4, 7)\n",
        "od_item5 = OrderItem(p5, 3)\n",
        "od_item6 = OrderItem(p3, 1)\n",
        "od_item7 = OrderItem(p2, 2)\n",
        "\n",
        "o1 = Order(1, 'Nhu', 'Phung', date, [od_item1, od_item2, od_item4])\n",
        "o2 = Order(2, 'Nhu', 'Phung', date, [od_item4, od_item1])\n",
        "o3 = Order(3, 'Nhu', 'Phung', date, [od_item6, od_item7, od_item5])\n",
        "\n",
        "om1 = OrderManager([o1, o2, o3])\n",
        "\n",
        "print('Product highest price is', om1.getProductHighestPriceInOders())\n",
        "print('Number of products bought by each type of product \\n', om1.showNumberOfProducts())\n"
      ],
      "metadata": {
        "id": "mh0p3VzGEyP8",
        "colab": {
          "base_uri": "https://localhost:8080/"
        },
        "outputId": "c26b46cd-8645-47ec-d766-293556075bda"
      },
      "execution_count": 9,
      "outputs": [
        {
          "output_type": "stream",
          "name": "stdout",
          "text": [
            "Product highest price is Man 100000 America\n",
            "Number of products bought by each type of product \n",
            " {Xoai 10000 China: 4, Buoi 18000: 7, Mit 400: 14, Man 100000 America: 1, Xoai 10000: 3}\n"
          ]
        }
      ]
    },
    {
      "cell_type": "markdown",
      "source": [
        "Task 2.1. Develop a NumPy program to create an array with values ranging from 10 to 25, then reverse the array (the first element becomes last)."
      ],
      "metadata": {
        "id": "NFHlGp0VuUAd"
      }
    },
    {
      "cell_type": "code",
      "source": [
        "import numpy as np\n",
        "array = np.arange(10, 26, 1)\n",
        "print(array)\n",
        "array = array[::-1]\n",
        "print(array)"
      ],
      "metadata": {
        "colab": {
          "base_uri": "https://localhost:8080/"
        },
        "id": "PNN2rRBpu2pY",
        "outputId": "dd1a6c51-d95e-4542-d659-acc439a93a0e"
      },
      "execution_count": 2,
      "outputs": [
        {
          "output_type": "stream",
          "name": "stdout",
          "text": [
            "[10 11 12 13 14 15 16 17 18 19 20 21 22 23 24 25]\n",
            "[25 24 23 22 21 20 19 18 17 16 15 14 13 12 11 10]\n"
          ]
        }
      ]
    },
    {
      "cell_type": "markdown",
      "source": [
        "Task 2.2. Develop a NumPy program that constructs an array by repeating. "
      ],
      "metadata": {
        "id": "xR7-X6p5wC4g"
      }
    },
    {
      "cell_type": "code",
      "source": [
        "array = np.arange(1, 5, 1)\n",
        "print(np.tile(array, 3))"
      ],
      "metadata": {
        "colab": {
          "base_uri": "https://localhost:8080/"
        },
        "id": "lsgp-16HwQsn",
        "outputId": "add60072-c5c7-45db-ec16-005801bd2472"
      },
      "execution_count": 3,
      "outputs": [
        {
          "output_type": "stream",
          "name": "stdout",
          "text": [
            "[1 2 3 4 1 2 3 4 1 2 3 4]\n"
          ]
        }
      ]
    },
    {
      "cell_type": "markdown",
      "source": [
        "Task 2.3. Develop a NumPy program to replace all elements of NumPy array that are greater\n",
        "than a specified array."
      ],
      "metadata": {
        "id": "IJWcnodRwWca"
      }
    },
    {
      "cell_type": "code",
      "source": [
        "x = np.array([[0.42, 0.48, 0.32], [0.74, 0.58, 0.38], [0.5, 0.34, 0.15]])\n",
        "print(x)\n",
        "print('-------------------')\n",
        "x[x > .5] = .5\n",
        "print(x)"
      ],
      "metadata": {
        "colab": {
          "base_uri": "https://localhost:8080/"
        },
        "id": "ltck7Bi7wZfo",
        "outputId": "6c66aa52-d46d-40c3-a787-2ed1b93b9217"
      },
      "execution_count": 8,
      "outputs": [
        {
          "output_type": "stream",
          "name": "stdout",
          "text": [
            "[[0.42 0.48 0.32]\n",
            " [0.74 0.58 0.38]\n",
            " [0.5  0.34 0.15]]\n",
            "-------------------\n",
            "[[0.42 0.48 0.32]\n",
            " [0.5  0.5  0.38]\n",
            " [0.5  0.34 0.15]]\n"
          ]
        }
      ]
    }
  ]
}